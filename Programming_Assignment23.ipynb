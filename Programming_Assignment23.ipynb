{
 "cells": [
  {
   "cell_type": "code",
   "execution_count": 1,
   "metadata": {},
   "outputs": [
    {
     "name": "stdout",
     "output_type": "stream",
     "text": [
      "True\n",
      "False\n",
      "True\n",
      "False\n",
      "True\n"
     ]
    }
   ],
   "source": [
    "def is_symmetrical(num):\n",
    "    # Convert the number to a string\n",
    "    num_str = str(num)\n",
    "    \n",
    "    # Compare the string with its reverse\n",
    "    return num_str == num_str[::-1]\n",
    "\n",
    "print(is_symmetrical(7227))      # True\n",
    "print(is_symmetrical(12567))     # False\n",
    "print(is_symmetrical(44444444))  # True\n",
    "print(is_symmetrical(9939))      # False\n",
    "print(is_symmetrical(1112111))   # True\n"
   ]
  },
  {
   "cell_type": "code",
   "execution_count": 2,
   "metadata": {},
   "outputs": [
    {
     "name": "stdout",
     "output_type": "stream",
     "text": [
      "6\n",
      "24\n",
      "0\n",
      "-20\n"
     ]
    }
   ],
   "source": [
    "def multiply_nums(numbers_str):\n",
    "    # Split the string into a list of numbers using ', ' as the separator\n",
    "    numbers_list = numbers_str.split(', ')\n",
    "    \n",
    "    # Initialize the product to 1\n",
    "    product = 1\n",
    "    \n",
    "    # Iterate through the numbers and multiply them together\n",
    "    for num_str in numbers_list:\n",
    "        # Convert each number from string to integer\n",
    "        num = int(num_str)\n",
    "        # Multiply it with the product\n",
    "        product *= num\n",
    "    \n",
    "    return product\n",
    "\n",
    "print(multiply_nums(\"2, 3\"))              # 6\n",
    "print(multiply_nums(\"1, 2, 3, 4\"))        # 24\n",
    "print(multiply_nums(\"54, 75, 453, 0\"))    # 0\n",
    "print(multiply_nums(\"10, -2\"))            # -20\n"
   ]
  },
  {
   "cell_type": "code",
   "execution_count": 3,
   "metadata": {},
   "outputs": [
    {
     "name": "stdout",
     "output_type": "stream",
     "text": [
      "811181\n",
      "416649\n",
      "9414\n"
     ]
    }
   ],
   "source": [
    "def square_digits(num):\n",
    "    # Initialize an empty string to store the squared digits\n",
    "    squared_digits_str = \"\"\n",
    "    \n",
    "    # Iterate through the digits of the number\n",
    "    while num > 0:\n",
    "        # Get the last digit\n",
    "        digit = num % 10\n",
    "        \n",
    "        # Square the digit and append it to the result as a string\n",
    "        squared_digits_str = str(digit ** 2) + squared_digits_str\n",
    "        \n",
    "        # Remove the last digit from the number\n",
    "        num //= 10\n",
    "    \n",
    "    # Convert the result back to an integer\n",
    "    result = int(squared_digits_str)\n",
    "    \n",
    "    return result\n",
    "\n",
    "print(square_digits(9119))  # 811181\n",
    "print(square_digits(2483))  # 416649\n",
    "print(square_digits(3212))  # 9414\n"
   ]
  },
  {
   "cell_type": "code",
   "execution_count": 5,
   "metadata": {},
   "outputs": [
    {
     "name": "stdout",
     "output_type": "stream",
     "text": [
      "[1, 3, 5]\n",
      "[4]\n",
      "[5, 7, 8, 9, 10, 15]\n",
      "[3, 2, 1]\n"
     ]
    }
   ],
   "source": [
    "def setify(lst):\n",
    "    # Initialize an empty set to store unique elements\n",
    "    unique_set = set()\n",
    "    \n",
    "    # Initialize an empty list to store the result\n",
    "    result = []\n",
    "    \n",
    "    # Iterate through the elements in the original list\n",
    "    for item in lst:\n",
    "        # If the item is not in the unique set, add it to both the set and the result list\n",
    "        if item not in unique_set:\n",
    "            unique_set.add(item)\n",
    "            result.append(item)\n",
    "    \n",
    "    return result\n",
    "\n",
    "print(setify([1, 3, 3, 5, 5]))          # [1, 3, 5]\n",
    "print(setify([4, 4, 4, 4]))             # [4]\n",
    "print(setify([5, 7, 8, 9, 10, 15]))    # [5, 7, 8, 9, 10, 15]\n",
    "print(setify([3, 3, 3, 2, 1]))          # [1, 2, 3]\n"
   ]
  },
  {
   "cell_type": "code",
   "execution_count": 6,
   "metadata": {},
   "outputs": [
    {
     "name": "stdout",
     "output_type": "stream",
     "text": [
      "3\n",
      "3\n",
      "6\n"
     ]
    }
   ],
   "source": [
    "def mean(num):\n",
    "    # Convert the number to a string to iterate through its digits\n",
    "    num_str = str(num)\n",
    "    \n",
    "    # Initialize variables to store the sum of digits and the count of digits\n",
    "    digit_sum = 0\n",
    "    digit_count = 0\n",
    "    \n",
    "    # Iterate through the digits of the number\n",
    "    for digit_str in num_str:\n",
    "        # Convert each digit back to an integer\n",
    "        digit = int(digit_str)\n",
    "        \n",
    "        # Add the digit to the sum\n",
    "        digit_sum += digit\n",
    "        \n",
    "        # Increment the digit count\n",
    "        digit_count += 1\n",
    "    \n",
    "    # Calculate the mean as the sum of digits divided by the count of digits\n",
    "    mean_value = digit_sum // digit_count\n",
    "    \n",
    "    return mean_value\n",
    "\n",
    "print(mean(42))      # 3\n",
    "print(mean(12345))   # 3\n",
    "print(mean(666))     # 6\n"
   ]
  }
 ],
 "metadata": {
  "kernelspec": {
   "display_name": "Python 3",
   "language": "python",
   "name": "python3"
  },
  "language_info": {
   "codemirror_mode": {
    "name": "ipython",
    "version": 3
   },
   "file_extension": ".py",
   "mimetype": "text/x-python",
   "name": "python",
   "nbconvert_exporter": "python",
   "pygments_lexer": "ipython3",
   "version": "3.10.11"
  }
 },
 "nbformat": 4,
 "nbformat_minor": 2
}
