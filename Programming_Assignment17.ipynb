{
 "cells": [
  {
   "cell_type": "code",
   "execution_count": 1,
   "metadata": {},
   "outputs": [
    {
     "name": "stdout",
     "output_type": "stream",
     "text": [
      "0\n",
      "30\n",
      "18\n"
     ]
    }
   ],
   "source": [
    "def evenly_divisible(a, b, c):\n",
    "    total = 0\n",
    "    for num in range(a, b + 1):\n",
    "        if num % c == 0:\n",
    "            total += num\n",
    "    return total\n",
    "\n",
    "# Test cases\n",
    "print(evenly_divisible(1, 10, 20))  # ➞ 0\n",
    "print(evenly_divisible(1, 10, 2))   # ➞ 30\n",
    "print(evenly_divisible(1, 10, 3))   # ➞ 18\n"
   ]
  },
  {
   "cell_type": "code",
   "execution_count": 2,
   "metadata": {},
   "outputs": [
    {
     "name": "stdout",
     "output_type": "stream",
     "text": [
      "True\n",
      "False\n",
      "True\n"
     ]
    }
   ],
   "source": [
    "def correct_signs(expression):\n",
    "    # Use the eval() function to evaluate the expression\n",
    "    return eval(expression)\n",
    "\n",
    "# Test cases\n",
    "print(correct_signs(\"3 < 7 < 11\"))        # ➞ True\n",
    "print(correct_signs(\"13 > 44 > 33 > 1\"))   # ➞ False\n",
    "print(correct_signs(\"1 < 2 < 6 < 9 > 3\"))  # ➞ True\n"
   ]
  },
  {
   "cell_type": "code",
   "execution_count": 3,
   "metadata": {},
   "outputs": [
    {
     "name": "stdout",
     "output_type": "stream",
     "text": [
      "th# ##rdv#rk\n",
      "m?nn?? m??s?\n",
      "sh*k*sp**r*\n"
     ]
    }
   ],
   "source": [
    "def replace_vowels(input_string, replacement_char):\n",
    "    vowels = \"AEIOUaeiou\"  # Define a string containing all the vowels\n",
    "    result = \"\"\n",
    "\n",
    "    for char in input_string:\n",
    "        if char in vowels:\n",
    "            result += replacement_char  # If the character is a vowel, add the replacement character\n",
    "        else:\n",
    "            result += char  # Otherwise, keep the original character\n",
    "\n",
    "    return result\n",
    "\n",
    "# Test cases\n",
    "print(replace_vowels(\"the aardvark\", \"#\"))   # ➞ \"th# ##rdv#rk\"\n",
    "print(replace_vowels(\"minnie mouse\", \"?\"))   # ➞ \"m?nn?? m??s?\"\n",
    "print(replace_vowels(\"shakespeare\", \"*\"))    # ➞ \"sh*k*sp**r*\"\n"
   ]
  },
  {
   "cell_type": "code",
   "execution_count": 4,
   "metadata": {},
   "outputs": [
    {
     "name": "stdout",
     "output_type": "stream",
     "text": [
      "120\n",
      "6\n",
      "1\n",
      "1\n"
     ]
    }
   ],
   "source": [
    "def factorial(n):\n",
    "    if n == 0 or n == 1:\n",
    "        return 1\n",
    "    else:\n",
    "        return n * factorial(n - 1)\n",
    "\n",
    "# Test cases\n",
    "print(factorial(5))  # ➞ 120\n",
    "print(factorial(3))  # ➞ 6\n",
    "print(factorial(1))  # ➞ 1\n",
    "print(factorial(0))  # ➞ 1\n"
   ]
  },
  {
   "cell_type": "code",
   "execution_count": 5,
   "metadata": {},
   "outputs": [
    {
     "name": "stdout",
     "output_type": "stream",
     "text": [
      "5\n",
      "0\n",
      "1\n"
     ]
    }
   ],
   "source": [
    "def hamming_distance(str1, str2):\n",
    "    # Check if the lengths of the strings are different\n",
    "    if len(str1) != len(str2):\n",
    "        raise ValueError(\"Input strings must have the same length\")\n",
    "\n",
    "    distance = 0\n",
    "\n",
    "    # Iterate through the characters of both strings and compare them\n",
    "    for i in range(len(str1)):\n",
    "        if str1[i] != str2[i]:\n",
    "            distance += 1\n",
    "\n",
    "    return distance\n",
    "\n",
    "# Test cases\n",
    "print(hamming_distance(\"abcde\", \"bcdef\"))   # ➞ 5\n",
    "print(hamming_distance(\"abcde\", \"abcde\"))   # ➞ 0\n",
    "print(hamming_distance(\"strong\", \"strung\")) # ➞ 1\n"
   ]
  }
 ],
 "metadata": {
  "kernelspec": {
   "display_name": "Python 3",
   "language": "python",
   "name": "python3"
  },
  "language_info": {
   "codemirror_mode": {
    "name": "ipython",
    "version": 3
   },
   "file_extension": ".py",
   "mimetype": "text/x-python",
   "name": "python",
   "nbconvert_exporter": "python",
   "pygments_lexer": "ipython3",
   "version": "3.10.11"
  }
 },
 "nbformat": 4,
 "nbformat_minor": 2
}
