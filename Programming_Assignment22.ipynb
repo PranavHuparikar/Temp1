{
 "cells": [
  {
   "cell_type": "code",
   "execution_count": 1,
   "metadata": {},
   "outputs": [
    {
     "name": "stdout",
     "output_type": "stream",
     "text": [
      "[3, 6, 9]\n",
      "[8]\n",
      "[]\n"
     ]
    }
   ],
   "source": [
    "def list_operation(x, y, n):\n",
    "    result = [num for num in range(x, y + 1) if num % n == 0]\n",
    "    return result\n",
    "\n",
    "# Test cases\n",
    "print(list_operation(1, 10, 3))  # ➞ [3, 6, 9]\n",
    "print(list_operation(7, 9, 2))   # ➞ [8]\n",
    "print(list_operation(15, 20, 7)) # ➞ []\n"
   ]
  },
  {
   "cell_type": "code",
   "execution_count": 24,
   "metadata": {},
   "outputs": [
    {
     "name": "stdout",
     "output_type": "stream",
     "text": [
      "True\n",
      "False\n",
      "True\n",
      "False\n"
     ]
    }
   ],
   "source": [
    "def simon_says(list1, list2):\n",
    "    # Check if the second list is equal to the first list shifted to the right by one element\n",
    "    return list2[1:] == list1[:-1]\n",
    "\n",
    "# Test cases\n",
    "print(simon_says([1, 2], [5, 1]))                # ➞ True\n",
    "print(simon_says([1, 2], [5, 5]))                # ➞ False\n",
    "print(simon_says([1, 2, 3, 4, 5], [0, 1, 2, 3, 4])) # ➞ True\n",
    "print(simon_says([1, 2, 3, 4, 5], [5, 5, 1, 2, 3])) # ➞ False\n"
   ]
  },
  {
   "cell_type": "code",
   "execution_count": 25,
   "metadata": {},
   "outputs": [
    {
     "name": "stdout",
     "output_type": "stream",
     "text": [
      "AMS\n",
      "CHLN\n",
      "CJMPRR\n"
     ]
    }
   ],
   "source": [
    "def society_name(names):\n",
    "    # Extract the first letter of each name and sort them alphabetically\n",
    "    secret_name = ''.join(sorted([name[0] for name in names]))\n",
    "    return secret_name\n",
    "\n",
    "# Test cases\n",
    "print(society_name([\"Adam\", \"Sarah\", \"Malcolm\"])) # ➞ \"AMS\"\n",
    "print(society_name([\"Harry\", \"Newt\", \"Luna\", \"Cho\"])) # ➞ \"CHLN\"\n",
    "print(society_name([\"Phoebe\", \"Chandler\", \"Rachel\", \"Ross\", \"Monica\", \"Joey\"])) # ➞ \"CJMPRR\"\n"
   ]
  },
  {
   "cell_type": "code",
   "execution_count": 26,
   "metadata": {},
   "outputs": [
    {
     "name": "stdout",
     "output_type": "stream",
     "text": [
      "True\n",
      "False\n",
      "False\n"
     ]
    }
   ],
   "source": [
    "def is_isogram(word):\n",
    "    # Convert the word to lowercase to make it case-insensitive\n",
    "    word = word.lower()\n",
    "    \n",
    "    # Use a set to keep track of seen letters\n",
    "    seen = set()\n",
    "\n",
    "    # Iterate through the characters in the word\n",
    "    for char in word:\n",
    "        # If a letter is already in the set, it's not an isogram\n",
    "        if char in seen:\n",
    "            return False\n",
    "        # Otherwise, add it to the set\n",
    "        seen.add(char)\n",
    "    \n",
    "    # If we didn't find any duplicate letters, it's an isogram\n",
    "    return True\n",
    "\n",
    "# Test cases\n",
    "print(is_isogram(\"Algorism\"))     # ➞ True\n",
    "print(is_isogram(\"PasSword\"))     # ➞ False\n",
    "print(is_isogram(\"Consecutive\"))  # ➞ False\n"
   ]
  },
  {
   "cell_type": "code",
   "execution_count": 27,
   "metadata": {},
   "outputs": [
    {
     "name": "stdout",
     "output_type": "stream",
     "text": [
      "True\n",
      "False\n",
      "True\n",
      "True\n"
     ]
    }
   ],
   "source": [
    "def is_in_order(s):\n",
    "    # Check if the string is equal to its sorted version\n",
    "    return s == ''.join(sorted(s))\n",
    "\n",
    "# Test cases\n",
    "print(is_in_order(\"abc\"))    # ➞ True\n",
    "print(is_in_order(\"edabit\")) # ➞ False\n",
    "print(is_in_order(\"123\"))    # ➞ True\n",
    "print(is_in_order(\"xyzz\"))   # ➞ True\n"
   ]
  }
 ],
 "metadata": {
  "kernelspec": {
   "display_name": "Python 3",
   "language": "python",
   "name": "python3"
  },
  "language_info": {
   "codemirror_mode": {
    "name": "ipython",
    "version": 3
   },
   "file_extension": ".py",
   "mimetype": "text/x-python",
   "name": "python",
   "nbconvert_exporter": "python",
   "pygments_lexer": "ipython3",
   "version": "3.10.11"
  }
 },
 "nbformat": 4,
 "nbformat_minor": 2
}
