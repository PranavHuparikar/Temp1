{
 "cells": [
  {
   "cell_type": "code",
   "execution_count": 1,
   "metadata": {},
   "outputs": [
    {
     "name": "stdout",
     "output_type": "stream",
     "text": [
      "2\n",
      "3\n",
      "0\n"
     ]
    }
   ],
   "source": [
    "def equal(a, b, c):\n",
    "    if a == b == c:\n",
    "        return 3\n",
    "    elif a == b or b == c or a == c:\n",
    "        return 2\n",
    "    else:\n",
    "        return 0\n",
    "\n",
    "# Examples\n",
    "print(equal(3, 4, 3))  # 2\n",
    "print(equal(1, 1, 1))  # 3\n",
    "print(equal(3, 4, 1))  # 0\n"
   ]
  },
  {
   "cell_type": "code",
   "execution_count": 2,
   "metadata": {},
   "outputs": [
    {
     "name": "stdout",
     "output_type": "stream",
     "text": [
      "[('B', 2), ('C', 3), ('D', 1)]\n",
      "[('dislikes', 3), ('followers', 10), ('likes', 2)]\n"
     ]
    }
   ],
   "source": [
    "def dict_to_list(dictionary):\n",
    "    # Use sorted() to sort the dictionary items alphabetically by keys\n",
    "    sorted_tuples = sorted(dictionary.items())\n",
    "    \n",
    "    return sorted_tuples\n",
    "\n",
    "# Examples\n",
    "print(dict_to_list({\"D\": 1, \"B\": 2, \"C\": 3}))\n",
    "# Should return [(\"B\", 2), (\"C\", 3), (\"D\", 1)]\n",
    "\n",
    "print(dict_to_list({\"likes\": 2, \"dislikes\": 3, \"followers\": 10}))\n",
    "# Should return [(\"dislikes\", 3), (\"followers\", 10), (\"likes\", 2)]\n"
   ]
  },
  {
   "cell_type": "code",
   "execution_count": 4,
   "metadata": {},
   "outputs": [
    {
     "name": "stdout",
     "output_type": "stream",
     "text": [
      "{'p': 'P', 's': 'S'}\n",
      "{'a': 'A', 'b': 'B', 'c': 'C'}\n",
      "{'a': 'A', 'v': 'V', 'y': 'Y', 'z': 'Z'}\n"
     ]
    }
   ],
   "source": [
    "def mapping(letters):\n",
    "    # Use a dictionary comprehension to create the dictionary\n",
    "    letter_dict = {letter: letter.upper() for letter in letters}\n",
    "    \n",
    "    return letter_dict\n",
    "\n",
    "# Examples\n",
    "print(mapping([\"p\", \"s\"]))\n",
    "# Should return {\"p\": \"P\", \"s\": \"S\"}\n",
    "\n",
    "print(mapping([\"a\", \"b\", \"c\"]))\n",
    "# Should return {\"a\": \"A\", \"b\": \"B\", \"c\": \"C\"}\n",
    "\n",
    "print(mapping([\"a\", \"v\", \"y\", \"z\"]))\n",
    "# Should return {\"a\": \"A\", \"v\": \"V\", \"y\": \"Y\", \"z\": \"Z\"}\n"
   ]
  },
  {
   "cell_type": "code",
   "execution_count": 5,
   "metadata": {},
   "outputs": [
    {
     "name": "stdout",
     "output_type": "stream",
     "text": [
      "upplus und bununus\n",
      "chooso cossorolo\n",
      "steffed jelepene peppers\n"
     ]
    }
   ],
   "source": [
    "def vow_replace(input_string, new_vowel):\n",
    "    # Define a set of vowels\n",
    "    vowels = \"aeiouAEIOU\"\n",
    "    \n",
    "    # Initialize an empty string to store the result\n",
    "    result = \"\"\n",
    "    \n",
    "    # Iterate through the characters in the input string\n",
    "    for char in input_string:\n",
    "        # If the character is a vowel, replace it with the new vowel\n",
    "        if char in vowels:\n",
    "            result += new_vowel\n",
    "        else:\n",
    "            result += char\n",
    "    \n",
    "    return result\n",
    "\n",
    "# Examples\n",
    "print(vow_replace(\"apples and bananas\", \"u\"))\n",
    "# Should return \"upplus und bununus\"\n",
    "\n",
    "print(vow_replace(\"cheese casserole\", \"o\"))\n",
    "# Should return \"chooso cossorolo\"\n",
    "\n",
    "print(vow_replace(\"stuffed jalapeno poppers\", \"e\"))\n",
    "# Should return \"steffed jelepene peppers\"\n"
   ]
  },
  {
   "cell_type": "code",
   "execution_count": 6,
   "metadata": {},
   "outputs": [
    {
     "name": "stdout",
     "output_type": "stream",
     "text": [
      "To Be oR NoT To Be!\n",
      "THe LiTTLe meRmaiD\n",
      "oH wHaT a BeauTiFuL moRNiNg.\n"
     ]
    }
   ],
   "source": [
    "def ascii_capitalize(input_str):\n",
    "    result = \"\"\n",
    "    for char in input_str:\n",
    "        ascii_code = ord(char)\n",
    "        if ascii_code % 2 == 0:\n",
    "            result += char.upper()\n",
    "        else:\n",
    "            result += char.lower()\n",
    "    return result\n",
    "\n",
    "# Examples\n",
    "print(ascii_capitalize(\"to be or not to be!\"))  # \"To Be oR NoT To Be!\"\n",
    "print(ascii_capitalize(\"THE LITTLE MERMAID\"))  # \"THe LiTTLe meRmaiD\"\n",
    "print(ascii_capitalize(\"Oh what a beautiful morning.\"))  # \"oH wHaT a BeauTiFuL moRNiNg.\"\n"
   ]
  }
 ],
 "metadata": {
  "kernelspec": {
   "display_name": "Python 3",
   "language": "python",
   "name": "python3"
  },
  "language_info": {
   "codemirror_mode": {
    "name": "ipython",
    "version": 3
   },
   "file_extension": ".py",
   "mimetype": "text/x-python",
   "name": "python",
   "nbconvert_exporter": "python",
   "pygments_lexer": "ipython3",
   "version": "3.10.11"
  }
 },
 "nbformat": 4,
 "nbformat_minor": 2
}
