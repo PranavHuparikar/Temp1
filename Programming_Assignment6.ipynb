{
 "cells": [
  {
   "cell_type": "code",
   "execution_count": 1,
   "metadata": {},
   "outputs": [
    {
     "name": "stdout",
     "output_type": "stream",
     "text": [
      "Fibonacci Sequence:\n",
      "0 1 1 2 3 5 8 13 21 34 55 89 144 233 377 "
     ]
    }
   ],
   "source": [
    "#Write a Python Program to Display Fibonacci Sequence Using Recursion?\n",
    "\n",
    "# Function to generate the Fibonacci sequence using recursion\n",
    "def fibonacci_recursive(n):\n",
    "    if n <= 0:\n",
    "        return []\n",
    "    elif n == 1:\n",
    "        return [0]\n",
    "    elif n == 2:\n",
    "        return [0, 1]\n",
    "    else:\n",
    "        fib_seq = fibonacci_recursive(n - 1)\n",
    "        fib_seq.append(fib_seq[-1] + fib_seq[-2])\n",
    "        return fib_seq\n",
    "\n",
    "# Input the number of terms from the user\n",
    "try:\n",
    "    num_terms = int(input(\"Enter the number of Fibonacci terms to generate: \"))\n",
    "    \n",
    "    # Check if the input is a positive integer\n",
    "    if num_terms <= 0:\n",
    "        print(\"Please enter a positive integer.\")\n",
    "    else:\n",
    "        # Call the fibonacci_recursive function to generate the sequence\n",
    "        fibonacci_seq = fibonacci_recursive(num_terms)\n",
    "        \n",
    "        # Print the Fibonacci sequence\n",
    "        print(\"Fibonacci Sequence:\")\n",
    "        for term in fibonacci_seq:\n",
    "            print(term, end=\" \")\n",
    "except ValueError:\n",
    "    print(\"Invalid input. Please enter a valid positive integer.\")\n"
   ]
  },
  {
   "cell_type": "code",
   "execution_count": 2,
   "metadata": {},
   "outputs": [
    {
     "name": "stdout",
     "output_type": "stream",
     "text": [
      "The factorial of 3 is 6\n"
     ]
    }
   ],
   "source": [
    "#Write a Python Program to Find Factorial of Number Using Recursion?\n",
    "\n",
    "# Function to calculate the factorial of a number using recursion\n",
    "def factorial_recursive(n):\n",
    "    if n == 0:\n",
    "        return 1\n",
    "    else:\n",
    "        return n * factorial_recursive(n - 1)\n",
    "\n",
    "# Input the number from the user\n",
    "try:\n",
    "    num = int(input(\"Enter a non-negative integer: \"))\n",
    "    \n",
    "    # Check if the input is a non-negative integer\n",
    "    if num < 0:\n",
    "        print(\"Please enter a non-negative integer.\")\n",
    "    else:\n",
    "        # Call the factorial_recursive function to calculate the factorial\n",
    "        result = factorial_recursive(num)\n",
    "        \n",
    "        # Print the factorial\n",
    "        print(f\"The factorial of {num} is {result}\")\n",
    "except ValueError:\n",
    "    print(\"Invalid input. Please enter a valid non-negative integer.\")\n"
   ]
  },
  {
   "cell_type": "code",
   "execution_count": 4,
   "metadata": {},
   "outputs": [
    {
     "name": "stdout",
     "output_type": "stream",
     "text": [
      "Your BMI is 20.45\n",
      "You have a normal weight.\n"
     ]
    }
   ],
   "source": [
    "#Write a Python Program to calculate your Body Mass Index?\n",
    "\n",
    "# Function to calculate BMI\n",
    "def calculate_bmi(weight, height):\n",
    "    return weight / (height ** 2)\n",
    "\n",
    "# Input weight and height from the user\n",
    "try:\n",
    "    weight = float(input(\"Enter your weight in kilograms: \"))\n",
    "    height = float(input(\"Enter your height in meters: \"))\n",
    "\n",
    "    # Check if weight and height are within reasonable limits\n",
    "    if weight <= 0 or height <= 0:\n",
    "        print(\"Please enter valid weight and height values.\")\n",
    "    else:\n",
    "        # Calculate BMI\n",
    "        bmi = calculate_bmi(weight, height)\n",
    "\n",
    "        # Print the BMI and corresponding category\n",
    "        print(f\"Your BMI is {bmi:.2f}\")\n",
    "\n",
    "        if bmi < 18.5:\n",
    "            print(\"You are underweight.\")\n",
    "        elif 18.5 <= bmi < 24.9:\n",
    "            print(\"You have a normal weight.\")\n",
    "        elif 25 <= bmi < 29.9:\n",
    "            print(\"You are overweight.\")\n",
    "        else:\n",
    "            print(\"You are obese.\")\n",
    "except ValueError:\n",
    "    print(\"Invalid input. Please enter valid numerical values for weight and height.\")\n"
   ]
  },
  {
   "cell_type": "code",
   "execution_count": 6,
   "metadata": {},
   "outputs": [
    {
     "name": "stdout",
     "output_type": "stream",
     "text": [
      "The natural logarithm of 10.0 is approximately 2.3026\n"
     ]
    }
   ],
   "source": [
    "#Write a Python Program to calculate the natural logarithm of any number?\n",
    "\n",
    "import math\n",
    "\n",
    "try:\n",
    "    # Input a number from the user\n",
    "    num = float(input(\"Enter a number: \"))\n",
    "    \n",
    "    # Check if the input is positive\n",
    "    if num <= 0:\n",
    "        print(\"Please enter a positive number.\")\n",
    "    else:\n",
    "        # Calculate the natural logarithm (base e) of the number\n",
    "        result = math.log(num)\n",
    "        \n",
    "        # Print the result\n",
    "        print(f\"The natural logarithm of {num} is approximately {result:.4f}\")\n",
    "except ValueError:\n",
    "    print(\"Invalid input. Please enter a valid numerical value.\")\n"
   ]
  },
  {
   "cell_type": "code",
   "execution_count": 8,
   "metadata": {},
   "outputs": [
    {
     "name": "stdout",
     "output_type": "stream",
     "text": [
      "The cube sum of the first 5 natural numbers is 225\n"
     ]
    }
   ],
   "source": [
    "#Write a Python Program for cube sum of first n natural numbers?\n",
    "\n",
    "try:\n",
    "    # Input the value of n from the user\n",
    "    n = int(input(\"Enter a positive integer (n): \"))\n",
    "    \n",
    "    # Check if the input is a positive integer\n",
    "    if n <= 0:\n",
    "        print(\"Please enter a positive integer.\")\n",
    "    else:\n",
    "        # Initialize the sum\n",
    "        cube_sum = 0\n",
    "        \n",
    "        # Calculate the cube sum of the first n natural numbers\n",
    "        for i in range(1, n + 1):\n",
    "            cube_sum += i ** 3\n",
    "        \n",
    "        # Print the result\n",
    "        print(f\"The cube sum of the first {n} natural numbers is {cube_sum}\")\n",
    "except ValueError:\n",
    "    print(\"Invalid input. Please enter a valid positive integer.\")\n"
   ]
  }
 ],
 "metadata": {
  "kernelspec": {
   "display_name": "Python 3",
   "language": "python",
   "name": "python3"
  },
  "language_info": {
   "codemirror_mode": {
    "name": "ipython",
    "version": 3
   },
   "file_extension": ".py",
   "mimetype": "text/x-python",
   "name": "python",
   "nbconvert_exporter": "python",
   "pygments_lexer": "ipython3",
   "version": "3.10.11"
  },
  "orig_nbformat": 4
 },
 "nbformat": 4,
 "nbformat_minor": 2
}
