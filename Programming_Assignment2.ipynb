{
 "cells": [
  {
   "cell_type": "code",
   "execution_count": 1,
   "metadata": {},
   "outputs": [
    {
     "name": "stdout",
     "output_type": "stream",
     "text": [
      "100 Kilometers is equal to 62.137100000000004 miles\n"
     ]
    }
   ],
   "source": [
    "#1. Write a Python program to convert kilometers to miles?\n",
    "conversion_factor = 0.621371\n",
    "\n",
    "kilometers = 100\n",
    "\n",
    "miles = kilometers * conversion_factor\n",
    "\n",
    "print(f\"{kilometers} Kilometers is equal to {miles} miles\")"
   ]
  },
  {
   "cell_type": "code",
   "execution_count": 2,
   "metadata": {},
   "outputs": [
    {
     "name": "stdout",
     "output_type": "stream",
     "text": [
      "50 degree Celsius is equal to 122.0 degrees Fahrenheits\n"
     ]
    }
   ],
   "source": [
    "#Write a Python program to convert Celsius to Fahrenheit?\n",
    "\n",
    "celsius = 50\n",
    "\n",
    "fahrenheit = (celsius * 9/5) + 32\n",
    "\n",
    "print(f\"{celsius} degree Celsius is equal to {fahrenheit} degrees Fahrenheits\")"
   ]
  },
  {
   "cell_type": "code",
   "execution_count": 7,
   "metadata": {},
   "outputs": [
    {
     "name": "stdout",
     "output_type": "stream",
     "text": [
      "Calendar for November 2023 :\n",
      "\n",
      "   November 2023\n",
      "Mo Tu We Th Fr Sa Su\n",
      "       1  2  3  4  5\n",
      " 6  7  8  9 10 11 12\n",
      "13 14 15 16 17 18 19\n",
      "20 21 22 23 24 25 26\n",
      "27 28 29 30\n",
      "\n"
     ]
    }
   ],
   "source": [
    "#Write a Python program to display calendar?\n",
    "\n",
    "import calendar\n",
    "\n",
    "year = 2023\n",
    "month = 11\n",
    "\n",
    "cal = calendar.month(year,month)\n",
    "\n",
    "print(f\"Calendar for {calendar.month_name[month]} {year} :\\n\")\n",
    "print(cal)"
   ]
  },
  {
   "cell_type": "code",
   "execution_count": 8,
   "metadata": {},
   "outputs": [
    {
     "name": "stdout",
     "output_type": "stream",
     "text": [
      "The solutions are complex: x1 = -0.5 + 0.8660254037844386i and x2 = -0.5 - 0.8660254037844386i\n"
     ]
    }
   ],
   "source": [
    "#Write a Python program to solve quadratic equation?\n",
    "\n",
    "import math\n",
    "\n",
    "# Input coefficients a, b, and c from the user\n",
    "a = float(input(\"Enter coefficient a: \"))\n",
    "b = float(input(\"Enter coefficient b: \"))\n",
    "c = float(input(\"Enter coefficient c: \"))\n",
    "\n",
    "# Calculate the discriminant\n",
    "discriminant = b**2 - 4*a*c\n",
    "\n",
    "# Check if the discriminant is positive, negative, or zero\n",
    "if discriminant > 0:\n",
    "    # Two real and distinct solutions\n",
    "    x1 = (-b + math.sqrt(discriminant)) / (2*a)\n",
    "    x2 = (-b - math.sqrt(discriminant)) / (2*a)\n",
    "    print(f\"The solutions are x1 = {x1} and x2 = {x2}\")\n",
    "elif discriminant == 0:\n",
    "    # One real solution (a repeated root)\n",
    "    x1 = -b / (2*a)\n",
    "    print(f\"The solution is x1 = {x1}\")\n",
    "else:\n",
    "    # Complex solutions (no real roots)\n",
    "    real_part = -b / (2*a)\n",
    "    imaginary_part = math.sqrt(abs(discriminant)) / (2*a)\n",
    "    print(f\"The solutions are complex: x1 = {real_part} + {imaginary_part}i and x2 = {real_part} - {imaginary_part}i\")\n"
   ]
  },
  {
   "cell_type": "code",
   "execution_count": 9,
   "metadata": {},
   "outputs": [
    {
     "name": "stdout",
     "output_type": "stream",
     "text": [
      "20 is the variable1 and 10 is the variable2 after swap\n"
     ]
    }
   ],
   "source": [
    "#Write a Python program to swap two variables without temp variable?\n",
    "\n",
    "variable1 = 10\n",
    "variable2 = 20\n",
    "\n",
    "variable1 , variable2 = variable2, variable1\n",
    "\n",
    "print(f\"{variable1} is the variable1 and {variable2} is the variable2 after swap\")"
   ]
  }
 ],
 "metadata": {
  "kernelspec": {
   "display_name": "Python 3",
   "language": "python",
   "name": "python3"
  },
  "language_info": {
   "codemirror_mode": {
    "name": "ipython",
    "version": 3
   },
   "file_extension": ".py",
   "mimetype": "text/x-python",
   "name": "python",
   "nbconvert_exporter": "python",
   "pygments_lexer": "ipython3",
   "version": "3.10.11"
  },
  "orig_nbformat": 4
 },
 "nbformat": 4,
 "nbformat_minor": 2
}
