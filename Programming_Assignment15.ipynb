{
 "cells": [
  {
   "cell_type": "code",
   "execution_count": 1,
   "metadata": {},
   "outputs": [
    {
     "name": "stdout",
     "output_type": "stream",
     "text": [
      "0,35,70\n"
     ]
    }
   ],
   "source": [
    "def divisible_by_5_and_7_generator(n):\n",
    "    for num in range(n + 1):\n",
    "        if num % 5 == 0 and num % 7 == 0:\n",
    "            yield num\n",
    "\n",
    "try:\n",
    "    n = int(input(\"Enter a value for n: \"))\n",
    "    result = list(divisible_by_5_and_7_generator(n))\n",
    "    result_str = ','.join(map(str, result))\n",
    "    print(result_str)\n",
    "except ValueError:\n",
    "    print(\"Invalid input. Please enter a valid number for n.\")\n"
   ]
  },
  {
   "cell_type": "code",
   "execution_count": 2,
   "metadata": {},
   "outputs": [
    {
     "name": "stdout",
     "output_type": "stream",
     "text": [
      "0,2,4,6,8,10\n"
     ]
    }
   ],
   "source": [
    "def even_numbers_generator(n):\n",
    "    for num in range(0, n + 1, 2):\n",
    "        yield num\n",
    "\n",
    "try:\n",
    "    n = int(input(\"Enter a value for n: \"))\n",
    "    result = list(even_numbers_generator(n))\n",
    "    result_str = ','.join(map(str, result))\n",
    "    print(result_str)\n",
    "except ValueError:\n",
    "    print(\"Invalid input. Please enter a valid number for n.\")\n"
   ]
  },
  {
   "cell_type": "code",
   "execution_count": 3,
   "metadata": {},
   "outputs": [
    {
     "name": "stdout",
     "output_type": "stream",
     "text": [
      "0,1,1,2,3,5,8,13\n"
     ]
    }
   ],
   "source": [
    "def fibonacci_sequence(n):\n",
    "    fib_sequence = [0, 1] if n >= 2 else [0] if n == 1 else []\n",
    "\n",
    "    while len(fib_sequence) < n + 1:\n",
    "        next_value = fib_sequence[-1] + fib_sequence[-2]\n",
    "        fib_sequence.append(next_value)\n",
    "\n",
    "    return fib_sequence\n",
    "\n",
    "try:\n",
    "    n = int(input(\"Enter a value for n: \"))\n",
    "    fib_sequence = fibonacci_sequence(n)\n",
    "    fib_str = ','.join(map(str, fib_sequence))\n",
    "    print(fib_str)\n",
    "except ValueError:\n",
    "    print(\"Invalid input. Please enter a valid number for n.\")\n"
   ]
  },
  {
   "cell_type": "code",
   "execution_count": 4,
   "metadata": {},
   "outputs": [
    {
     "name": "stdout",
     "output_type": "stream",
     "text": [
      "Username: john\n"
     ]
    }
   ],
   "source": [
    "# Input email address\n",
    "email_address = input(\"Enter an email address: \")\n",
    "\n",
    "# Split the email address at '@' to separate the username and domain\n",
    "parts = email_address.split('@')\n",
    "\n",
    "# Check if the email address is in the correct format (contains only one '@' character)\n",
    "if len(parts) == 2:\n",
    "    username = parts[0]\n",
    "    print(\"Username:\", username)\n",
    "else:\n",
    "    print(\"Invalid email address format.\")\n"
   ]
  },
  {
   "cell_type": "code",
   "execution_count": 5,
   "metadata": {},
   "outputs": [
    {
     "name": "stdout",
     "output_type": "stream",
     "text": [
      "Area of the generic shape: 0\n",
      "Area of the square: 25\n"
     ]
    }
   ],
   "source": [
    "class Shape:\n",
    "    def area(self):\n",
    "        return 0\n",
    "\n",
    "class Square(Shape):\n",
    "    def __init__(self, length):\n",
    "        self.length = length\n",
    "\n",
    "    def area(self):\n",
    "        return self.length * self.length\n",
    "\n",
    "# Example usage:\n",
    "shape = Shape()\n",
    "square = Square(5)\n",
    "\n",
    "print(\"Area of the generic shape:\", shape.area())  # Output: 0\n",
    "print(\"Area of the square:\", square.area())        # Output: 25\n"
   ]
  }
 ],
 "metadata": {
  "kernelspec": {
   "display_name": "Python 3",
   "language": "python",
   "name": "python3"
  },
  "language_info": {
   "codemirror_mode": {
    "name": "ipython",
    "version": 3
   },
   "file_extension": ".py",
   "mimetype": "text/x-python",
   "name": "python",
   "nbconvert_exporter": "python",
   "pygments_lexer": "ipython3",
   "version": "3.10.11"
  }
 },
 "nbformat": 4,
 "nbformat_minor": 2
}
