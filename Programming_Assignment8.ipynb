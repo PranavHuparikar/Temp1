{
 "cells": [
  {
   "cell_type": "code",
   "execution_count": 1,
   "metadata": {},
   "outputs": [
    {
     "name": "stdout",
     "output_type": "stream",
     "text": [
      "Enter elements of the first matrix:\n",
      "Enter elements of the second matrix:\n",
      "Sum of the two matrices:\n",
      "[3.0, 13.0]\n",
      "[10.0, 12.0]\n"
     ]
    }
   ],
   "source": [
    "#Write a Python Program to Add Two Matrices?\n",
    "\n",
    "# Function to add two matrices\n",
    "def add_matrices(matrix1, matrix2):\n",
    "    # Check if the matrices have the same dimensions\n",
    "    if len(matrix1) != len(matrix2) or len(matrix1[0]) != len(matrix2[0]):\n",
    "        return None  # Return None if dimensions do not match\n",
    "    \n",
    "    # Initialize a result matrix with zeros\n",
    "    result = [[0 for _ in range(len(matrix1[0]))] for _ in range(len(matrix1))]\n",
    "    \n",
    "    # Perform element-wise addition\n",
    "    for i in range(len(matrix1)):\n",
    "        for j in range(len(matrix1[0])):\n",
    "            result[i][j] = matrix1[i][j] + matrix2[i][j]\n",
    "    \n",
    "    return result\n",
    "\n",
    "# Input the dimensions and elements of the first matrix\n",
    "try:\n",
    "    rows = int(input(\"Enter the number of rows: \"))\n",
    "    cols = int(input(\"Enter the number of columns: \"))\n",
    "    \n",
    "    matrix1 = []\n",
    "    print(\"Enter elements of the first matrix:\")\n",
    "    for i in range(rows):\n",
    "        row = []\n",
    "        for j in range(cols):\n",
    "            element = float(input(f\"Enter element at position ({i + 1}, {j + 1}): \"))\n",
    "            row.append(element)\n",
    "        matrix1.append(row)\n",
    "    \n",
    "    # Input the elements of the second matrix with the same dimensions\n",
    "    matrix2 = []\n",
    "    print(\"Enter elements of the second matrix:\")\n",
    "    for i in range(rows):\n",
    "        row = []\n",
    "        for j in range(cols):\n",
    "            element = float(input(f\"Enter element at position ({i + 1}, {j + 1}): \"))\n",
    "            row.append(element)\n",
    "        matrix2.append(row)\n",
    "    \n",
    "    # Call the add_matrices function to add the two matrices\n",
    "    result_matrix = add_matrices(matrix1, matrix2)\n",
    "    \n",
    "    # Print the result\n",
    "    if result_matrix:\n",
    "        print(\"Sum of the two matrices:\")\n",
    "        for row in result_matrix:\n",
    "            print(row)\n",
    "    else:\n",
    "        print(\"Matrix dimensions do not match for addition.\")\n",
    "except ValueError:\n",
    "    print(\"Invalid input. Please enter valid numerical values for matrix elements.\")\n"
   ]
  },
  {
   "cell_type": "code",
   "execution_count": 2,
   "metadata": {},
   "outputs": [
    {
     "name": "stdout",
     "output_type": "stream",
     "text": [
      "Enter elements of matrix 1:\n",
      "Enter elements of matrix 2:\n",
      "Result of matrix multiplication:\n",
      "[42.0, 33.0]\n",
      "[40.0, 42.0]\n"
     ]
    }
   ],
   "source": [
    "#Write a Python Program to Multiply Two Matrices?\n",
    "\n",
    "# Function to multiply two matrices\n",
    "def multiply_matrices(matrix1, matrix2):\n",
    "    # Check if the matrices have compatible dimensions\n",
    "    if len(matrix1[0]) != len(matrix2):\n",
    "        return None  # Return None if dimensions are incompatible\n",
    "    \n",
    "    # Initialize a result matrix with zeros\n",
    "    result = [[0 for _ in range(len(matrix2[0]))] for _ in range(len(matrix1))]\n",
    "    \n",
    "    # Perform matrix multiplication\n",
    "    for i in range(len(matrix1)):\n",
    "        for j in range(len(matrix2[0])):\n",
    "            for k in range(len(matrix2)):\n",
    "                result[i][j] += matrix1[i][k] * matrix2[k][j]\n",
    "    \n",
    "    return result\n",
    "\n",
    "# Input the dimensions and elements of the first matrix\n",
    "try:\n",
    "    rows1 = int(input(\"Enter the number of rows for matrix 1: \"))\n",
    "    cols1 = int(input(\"Enter the number of columns for matrix 1: \"))\n",
    "    \n",
    "    matrix1 = []\n",
    "    print(\"Enter elements of matrix 1:\")\n",
    "    for i in range(rows1):\n",
    "        row = []\n",
    "        for j in range(cols1):\n",
    "            element = float(input(f\"Enter element at position ({i + 1}, {j + 1}): \"))\n",
    "            row.append(element)\n",
    "        matrix1.append(row)\n",
    "    \n",
    "    # Input the dimensions and elements of the second matrix\n",
    "    rows2 = int(input(\"Enter the number of rows for matrix 2: \"))\n",
    "    cols2 = int(input(\"Enter the number of columns for matrix 2: \"))\n",
    "    \n",
    "    matrix2 = []\n",
    "    print(\"Enter elements of matrix 2:\")\n",
    "    for i in range(rows2):\n",
    "        row = []\n",
    "        for j in range(cols2):\n",
    "            element = float(input(f\"Enter element at position ({i + 1}, {j + 1}): \"))\n",
    "            row.append(element)\n",
    "        matrix2.append(row)\n",
    "    \n",
    "    # Call the multiply_matrices function to multiply the two matrices\n",
    "    result_matrix = multiply_matrices(matrix1, matrix2)\n",
    "    \n",
    "    # Print the result\n",
    "    if result_matrix:\n",
    "        print(\"Result of matrix multiplication:\")\n",
    "        for row in result_matrix:\n",
    "            print(row)\n",
    "    else:\n",
    "        print(\"Matrix dimensions are incompatible for multiplication.\")\n",
    "except ValueError:\n",
    "    print(\"Invalid input. Please enter valid numerical values for matrix elements.\")\n"
   ]
  },
  {
   "cell_type": "code",
   "execution_count": 4,
   "metadata": {},
   "outputs": [
    {
     "name": "stdout",
     "output_type": "stream",
     "text": [
      "Enter elements of the matrix:\n",
      "Transposed Matrix:\n",
      "[1.0, 3.0, 5.0]\n",
      "[2.0, 4.0, 6.0]\n"
     ]
    }
   ],
   "source": [
    "#Write a Python Program to Transpose a Matrix?\n",
    "\n",
    "# Function to transpose a matrix\n",
    "def transpose_matrix(matrix):\n",
    "    # Get the dimensions of the original matrix\n",
    "    rows = len(matrix)\n",
    "    cols = len(matrix[0])\n",
    "    \n",
    "    # Create a new matrix to store the transpose\n",
    "    transpose = [[0 for _ in range(rows)] for _ in range(cols)]\n",
    "    \n",
    "    # Perform the transpose operation\n",
    "    for i in range(rows):\n",
    "        for j in range(cols):\n",
    "            transpose[j][i] = matrix[i][j]\n",
    "    \n",
    "    return transpose\n",
    "\n",
    "# Input the dimensions and elements of the matrix\n",
    "try:\n",
    "    rows = int(input(\"Enter the number of rows: \"))\n",
    "    cols = int(input(\"Enter the number of columns: \"))\n",
    "    \n",
    "    matrix = []\n",
    "    print(\"Enter elements of the matrix:\")\n",
    "    for i in range(rows):\n",
    "        row = []\n",
    "        for j in range(cols):\n",
    "            element = float(input(f\"Enter element at position ({i + 1}, {j + 1}): \"))\n",
    "            row.append(element)\n",
    "        matrix.append(row)\n",
    "    \n",
    "    # Call the transpose_matrix function to transpose the matrix\n",
    "    transposed_matrix = transpose_matrix(matrix)\n",
    "    \n",
    "    # Print the transposed matrix\n",
    "    print(\"Transposed Matrix:\")\n",
    "    for row in transposed_matrix:\n",
    "        print(row)\n",
    "except ValueError:\n",
    "    print(\"Invalid input. Please enter valid numerical values for matrix elements.\")\n"
   ]
  },
  {
   "cell_type": "code",
   "execution_count": 5,
   "metadata": {},
   "outputs": [
    {
     "name": "stdout",
     "output_type": "stream",
     "text": [
      "Sorted Words: abc hello is my name\n"
     ]
    }
   ],
   "source": [
    "#Write a Python Program to Sort Words in Alphabetic Order?\n",
    "# Input a sentence or a list of words from the user\n",
    "input_string = input(\"Enter a sentence or a list of words: \")\n",
    "\n",
    "# Split the input string into words\n",
    "words = input_string.split()\n",
    "\n",
    "# Sort the words in alphabetical order\n",
    "sorted_words = sorted(words)\n",
    "\n",
    "# Join the sorted words back into a sentence\n",
    "sorted_sentence = ' '.join(sorted_words)\n",
    "\n",
    "# Print the sorted sentence\n",
    "print(\"Sorted Words:\", sorted_sentence)\n"
   ]
  },
  {
   "cell_type": "code",
   "execution_count": 6,
   "metadata": {},
   "outputs": [
    {
     "name": "stdout",
     "output_type": "stream",
     "text": [
      "String with Punctuation Removed: wow that is amazing\n"
     ]
    }
   ],
   "source": [
    "#Write a Python Program to Remove Punctuation From a String?\n",
    "\n",
    "import string\n",
    "\n",
    "# Function to remove punctuation from a string\n",
    "def remove_punctuation(input_string):\n",
    "    # Define a translation table to remove punctuation\n",
    "    translator = str.maketrans('', '', string.punctuation)\n",
    "    \n",
    "    # Use translate() to remove punctuation\n",
    "    cleaned_string = input_string.translate(translator)\n",
    "    \n",
    "    return cleaned_string\n",
    "\n",
    "# Input a string from the user\n",
    "input_string = input(\"Enter a string with punctuation: \")\n",
    "\n",
    "# Call the remove_punctuation function to remove punctuation\n",
    "cleaned_string = remove_punctuation(input_string)\n",
    "\n",
    "# Print the cleaned string\n",
    "print(\"String with Punctuation Removed:\", cleaned_string)\n"
   ]
  }
 ],
 "metadata": {
  "kernelspec": {
   "display_name": "Python 3",
   "language": "python",
   "name": "python3"
  },
  "language_info": {
   "codemirror_mode": {
    "name": "ipython",
    "version": 3
   },
   "file_extension": ".py",
   "mimetype": "text/x-python",
   "name": "python",
   "nbconvert_exporter": "python",
   "pygments_lexer": "ipython3",
   "version": "3.10.11"
  },
  "orig_nbformat": 4
 },
 "nbformat": 4,
 "nbformat_minor": 2
}
