{
 "cells": [
  {
   "cell_type": "code",
   "execution_count": 1,
   "metadata": {},
   "outputs": [
    {
     "name": "stdout",
     "output_type": "stream",
     "text": [
      "[6, 7, 8, 9, 1]\n",
      "[6, 3, 23, 17, 10]\n",
      "[10, 20, 42, 6]\n",
      "No list has been selected\n"
     ]
    }
   ],
   "source": [
    "def next_in_line(lst, num):\n",
    "    if not lst:  # Check if the list is empty\n",
    "        return \"No list has been selected\"\n",
    "    \n",
    "    lst.append(num)    # Add the number to the end of the list\n",
    "    lst.pop(0)         # Remove the first element of the list\n",
    "    return lst\n",
    "\n",
    "# Test cases\n",
    "print(next_in_line([5, 6, 7, 8, 9], 1))     # ➞ [6, 7, 8, 9, 1]\n",
    "print(next_in_line([7, 6, 3, 23, 17], 10))  # ➞ [6, 3, 23, 17, 10]\n",
    "print(next_in_line([1, 10, 20, 42], 6))     # ➞ [10, 20, 42, 6]\n",
    "print(next_in_line([], 6))                  # ➞ \"No list has been selected\"\n"
   ]
  },
  {
   "cell_type": "code",
   "execution_count": 2,
   "metadata": {},
   "outputs": [
    {
     "name": "stdout",
     "output_type": "stream",
     "text": [
      "65700\n",
      "62600\n"
     ]
    }
   ],
   "source": [
    "def get_budgets(lst):\n",
    "    return sum(person[\"budget\"] for person in lst)\n",
    "\n",
    "# Test cases\n",
    "print(get_budgets([\n",
    "    {\"name\": \"John\", \"age\": 21, \"budget\": 23000},\n",
    "    {\"name\": \"Steve\", \"age\": 32, \"budget\": 40000},\n",
    "    {\"name\": \"Martin\", \"age\": 16, \"budget\": 2700}\n",
    "]))  # ➞ 65700\n",
    "\n",
    "print(get_budgets([\n",
    "    {\"name\": \"John\", \"age\": 21, \"budget\": 29000},\n",
    "    {\"name\": \"Steve\", \"age\": 32, \"budget\": 32000},\n",
    "    {\"name\": \"Martin\", \"age\": 16, \"budget\": 1600}\n",
    "]))  # ➞ 62600\n"
   ]
  },
  {
   "cell_type": "code",
   "execution_count": 3,
   "metadata": {},
   "outputs": [
    {
     "name": "stdout",
     "output_type": "stream",
     "text": [
      "ehllo\n",
      "abdeit\n",
      "acehkr\n",
      "eegk\n",
      "aacijprstv\n"
     ]
    }
   ],
   "source": [
    "def alphabet_soup(s):\n",
    "    return ''.join(sorted(s))\n",
    "\n",
    "# Test cases\n",
    "print(alphabet_soup(\"hello\"))       # ➞ \"ehllo\"\n",
    "print(alphabet_soup(\"edabit\"))      # ➞ \"abdeit\"\n",
    "print(alphabet_soup(\"hacker\"))      # ➞ \"acehkr\"\n",
    "print(alphabet_soup(\"geek\"))        # ➞ \"eegk\"\n",
    "print(alphabet_soup(\"javascript\"))  # ➞ \"aacijprstv\"\n"
   ]
  },
  {
   "cell_type": "code",
   "execution_count": 4,
   "metadata": {},
   "outputs": [
    {
     "name": "stdout",
     "output_type": "stream",
     "text": [
      "18193.97\n",
      "105.0\n",
      "15399.26\n",
      "2007316.26\n"
     ]
    }
   ],
   "source": [
    "def compound_interest(p, t, r, n):\n",
    "    # Calculate the future value using the compound interest formula\n",
    "    future_value = p * (1 + r/n)**(n*t)\n",
    "    \n",
    "    # Round the future value to the nearest cent\n",
    "    return round(future_value, 2)\n",
    "\n",
    "# Test cases\n",
    "print(compound_interest(10000, 10, 0.06, 12))     # ➞ 18193.97\n",
    "print(compound_interest(100, 1, 0.05, 1))        # ➞ 105.0\n",
    "print(compound_interest(3500, 15, 0.1, 4))       # ➞ 15399.26\n",
    "print(compound_interest(100000, 20, 0.15, 365))  # ➞ 2007316.26\n"
   ]
  },
  {
   "cell_type": "code",
   "execution_count": 6,
   "metadata": {},
   "outputs": [
    {
     "name": "stdout",
     "output_type": "stream",
     "text": [
      "[9, 2, 16]\n",
      "[81, 123]\n",
      "[10, 56, 20, 3]\n",
      "[1]\n"
     ]
    }
   ],
   "source": [
    "def return_only_integer(elements):\n",
    "    return [x for x in elements if isinstance(x, int) and not isinstance(x, bool)]\n",
    "\n",
    "# Test cases\n",
    "print(return_only_integer([9, 2, \"space\", \"car\", \"lion\", 16]))      # ➞ [9, 2, 16]\n",
    "print(return_only_integer([\"hello\", 81, \"basketball\", 123, \"fox\"]))  # ➞ [81, 123]\n",
    "print(return_only_integer([10, \"121\", 56, 20, \"car\", 3, \"lion\"]))    # ➞ [10, 56, 20, 3]\n",
    "print(return_only_integer([\"String\", True, 3.3, 1]))                # ➞ [1]\n"
   ]
  }
 ],
 "metadata": {
  "kernelspec": {
   "display_name": "Python 3",
   "language": "python",
   "name": "python3"
  },
  "language_info": {
   "codemirror_mode": {
    "name": "ipython",
    "version": 3
   },
   "file_extension": ".py",
   "mimetype": "text/x-python",
   "name": "python",
   "nbconvert_exporter": "python",
   "pygments_lexer": "ipython3",
   "version": "3.10.11"
  }
 },
 "nbformat": 4,
 "nbformat_minor": 2
}
