{
 "cells": [
  {
   "cell_type": "code",
   "execution_count": 1,
   "metadata": {},
   "outputs": [
    {
     "name": "stdout",
     "output_type": "stream",
     "text": [
      "The LCM of 321 and 21 is 2247\n"
     ]
    }
   ],
   "source": [
    "#Write a Python Program to Find LCM?\n",
    "# Import the math module to use the gcd function\n",
    "import math\n",
    "\n",
    "# Function to find the LCM of two numbers\n",
    "def find_lcm(num1, num2):\n",
    "    # Calculate the GCD (Greatest Common Divisor) using math.gcd()\n",
    "    gcd = math.gcd(num1, num2)\n",
    "    \n",
    "    # LCM formula: LCM = (num1 * num2) / GCD\n",
    "    lcm = (num1 * num2) // gcd\n",
    "    \n",
    "    return lcm\n",
    "\n",
    "# Input two numbers from the user\n",
    "try:\n",
    "    num1 = int(input(\"Enter the first number: \"))\n",
    "    num2 = int(input(\"Enter the second number: \"))\n",
    "    \n",
    "    # Call the find_lcm function to calculate the LCM\n",
    "    lcm = find_lcm(num1, num2)\n",
    "    \n",
    "    # Print the result\n",
    "    print(f\"The LCM of {num1} and {num2} is {lcm}\")\n",
    "except ValueError:\n",
    "    print(\"Invalid input. Please enter valid integers.\")\n"
   ]
  },
  {
   "cell_type": "code",
   "execution_count": 2,
   "metadata": {},
   "outputs": [
    {
     "name": "stdout",
     "output_type": "stream",
     "text": [
      "The HCF (GCD) of 25 and 5 is 5\n"
     ]
    }
   ],
   "source": [
    "#Write a Python Program to Find HCF?\n",
    "# Function to find the HCF (GCD) of two numbers using the Euclidean algorithm\n",
    "def find_hcf(num1, num2):\n",
    "    while num2:\n",
    "        num1, num2 = num2, num1 % num2\n",
    "    return num1\n",
    "\n",
    "# Input two numbers from the user\n",
    "try:\n",
    "    num1 = int(input(\"Enter the first number: \"))\n",
    "    num2 = int(input(\"Enter the second number: \"))\n",
    "    \n",
    "    # Call the find_hcf function to calculate the HCF\n",
    "    hcf = find_hcf(num1, num2)\n",
    "    \n",
    "    # Print the result\n",
    "    print(f\"The HCF (GCD) of {num1} and {num2} is {hcf}\")\n",
    "except ValueError:\n",
    "    print(\"Invalid input. Please enter valid integers.\")\n"
   ]
  },
  {
   "cell_type": "code",
   "execution_count": 3,
   "metadata": {},
   "outputs": [
    {
     "name": "stdout",
     "output_type": "stream",
     "text": [
      "Decimal 128 in binary is: 10000000\n",
      "Decimal 128 in octal is: 0o200\n",
      "Decimal 128 in hexadecimal is: 0x80\n"
     ]
    }
   ],
   "source": [
    "#Write a Python Program to Convert Decimal to Binary, Octal and Hexadecimal?\n",
    "# Input a decimal number from the user\n",
    "try:\n",
    "    decimal_number = int(input(\"Enter a decimal number: \"))\n",
    "    \n",
    "    # Convert to binary, octal, and hexadecimal\n",
    "    binary_number = bin(decimal_number)\n",
    "    octal_number = oct(decimal_number)\n",
    "    hexadecimal_number = hex(decimal_number)\n",
    "    \n",
    "    # Remove the '0b' prefix from binary representation\n",
    "    binary_number = binary_number[2:]\n",
    "    \n",
    "    # Print the results\n",
    "    print(f\"Decimal {decimal_number} in binary is: {binary_number}\")\n",
    "    print(f\"Decimal {decimal_number} in octal is: {octal_number}\")\n",
    "    print(f\"Decimal {decimal_number} in hexadecimal is: {hexadecimal_number}\")\n",
    "except ValueError:\n",
    "    print(\"Invalid input. Please enter a valid decimal number.\")\n"
   ]
  },
  {
   "cell_type": "code",
   "execution_count": 4,
   "metadata": {},
   "outputs": [
    {
     "name": "stdout",
     "output_type": "stream",
     "text": [
      "The ASCII value of 'x' is 120\n"
     ]
    }
   ],
   "source": [
    "#Write a Python Program To Find ASCII value of a character?\n",
    "\n",
    "# Input a character from the user\n",
    "try:\n",
    "    char = input(\"Enter a character: \")\n",
    "    \n",
    "    # Check if the input is a single character\n",
    "    if len(char) == 1:\n",
    "        # Use the ord() function to get the ASCII value\n",
    "        ascii_value = ord(char)\n",
    "        \n",
    "        # Print the result\n",
    "        print(f\"The ASCII value of '{char}' is {ascii_value}\")\n",
    "    else:\n",
    "        print(\"Please enter a single character.\")\n",
    "except ValueError:\n",
    "    print(\"Invalid input. Please enter a valid character.\")\n"
   ]
  },
  {
   "cell_type": "code",
   "execution_count": 5,
   "metadata": {},
   "outputs": [
    {
     "name": "stdout",
     "output_type": "stream",
     "text": [
      "Choose an operation:\n",
      "1. Addition\n",
      "2. Subtraction\n",
      "3. Multiplication\n",
      "4. Division\n",
      "32.0 * 5.0 = 160.0\n"
     ]
    }
   ],
   "source": [
    "#Write a Python Program to Make a Simple Calculator with 4 basic mathematical operations?\n",
    "\n",
    "# Function to perform addition\n",
    "def add(x, y):\n",
    "    return x + y\n",
    "\n",
    "# Function to perform subtraction\n",
    "def subtract(x, y):\n",
    "    return x - y\n",
    "\n",
    "# Function to perform multiplication\n",
    "def multiply(x, y):\n",
    "    return x * y\n",
    "\n",
    "# Function to perform division\n",
    "def divide(x, y):\n",
    "    if y == 0:\n",
    "        return \"Division by zero is not allowed.\"\n",
    "    return x / y\n",
    "\n",
    "# Input two numbers from the user\n",
    "try:\n",
    "    num1 = float(input(\"Enter the first number: \"))\n",
    "    num2 = float(input(\"Enter the second number: \"))\n",
    "    \n",
    "    print(\"Choose an operation:\")\n",
    "    print(\"1. Addition\")\n",
    "    print(\"2. Subtraction\")\n",
    "    print(\"3. Multiplication\")\n",
    "    print(\"4. Division\")\n",
    "    \n",
    "    choice = input(\"Enter operation (1/2/3/4): \")\n",
    "    \n",
    "    if choice in ('1', '2', '3', '4'):\n",
    "        if choice == '1':\n",
    "            result = add(num1, num2)\n",
    "            operation = '+'\n",
    "        elif choice == '2':\n",
    "            result = subtract(num1, num2)\n",
    "            operation = '-'\n",
    "        elif choice == '3':\n",
    "            result = multiply(num1, num2)\n",
    "            operation = '*'\n",
    "        else:\n",
    "            result = divide(num1, num2)\n",
    "            operation = '/'\n",
    "        \n",
    "        print(f\"{num1} {operation} {num2} = {result}\")\n",
    "    else:\n",
    "        print(\"Invalid operation.\")\n",
    "except ValueError:\n",
    "    print(\"Invalid input. Please enter valid numbers.\")\n"
   ]
  }
 ],
 "metadata": {
  "kernelspec": {
   "display_name": "Python 3",
   "language": "python",
   "name": "python3"
  },
  "language_info": {
   "codemirror_mode": {
    "name": "ipython",
    "version": 3
   },
   "file_extension": ".py",
   "mimetype": "text/x-python",
   "name": "python",
   "nbconvert_exporter": "python",
   "pygments_lexer": "ipython3",
   "version": "3.10.11"
  },
  "orig_nbformat": 4
 },
 "nbformat": 4,
 "nbformat_minor": 2
}
