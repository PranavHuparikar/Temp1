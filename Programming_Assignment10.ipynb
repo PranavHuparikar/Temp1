{
 "cells": [
  {
   "cell_type": "code",
   "execution_count": 2,
   "metadata": {},
   "outputs": [
    {
     "name": "stdout",
     "output_type": "stream",
     "text": [
      "209\n"
     ]
    }
   ],
   "source": [
    "#Write a Python program to find sum of elements in list?\n",
    "\n",
    "list1= [10,11,22,33,55,78]\n",
    "\n",
    "result = sum(list1)\n",
    "\n",
    "print(result)\n"
   ]
  },
  {
   "cell_type": "code",
   "execution_count": 3,
   "metadata": {},
   "outputs": [
    {
     "name": "stdout",
     "output_type": "stream",
     "text": [
      "The product of all numbers in the list is: 120\n"
     ]
    }
   ],
   "source": [
    "#Write a Python program to Multiply all numbers in the list?\n",
    "\n",
    "from functools import reduce\n",
    "\n",
    "# Define a list of numbers\n",
    "numbers = [1, 2, 3, 4, 5]\n",
    "\n",
    "# Define a function to multiply two numbers\n",
    "def multiply(x, y):\n",
    "    return x * y\n",
    "\n",
    "# Use the reduce function to multiply all numbers in the list\n",
    "result = reduce(multiply, numbers)\n",
    "\n",
    "# Print the result\n",
    "print(\"The product of all numbers in the list is:\", result)\n"
   ]
  },
  {
   "cell_type": "code",
   "execution_count": 4,
   "metadata": {},
   "outputs": [
    {
     "name": "stdout",
     "output_type": "stream",
     "text": [
      "The smallest number in the list is: 1\n"
     ]
    }
   ],
   "source": [
    "#Write a Python program to find smallest number in a list?\n",
    "# Define a list of numbers\n",
    "numbers = [5, 2, 9, 1, 7]\n",
    "\n",
    "# Find the smallest number using the min() function\n",
    "smallest_number = min(numbers)\n",
    "\n",
    "# Print the result\n",
    "print(\"The smallest number in the list is:\", smallest_number)\n"
   ]
  },
  {
   "cell_type": "code",
   "execution_count": 5,
   "metadata": {},
   "outputs": [
    {
     "name": "stdout",
     "output_type": "stream",
     "text": [
      "The largest number in the list is: 9\n"
     ]
    }
   ],
   "source": [
    "#Write a Python program to find largest number in a list?\n",
    "# Define a list of numbers\n",
    "numbers = [5, 2, 9, 1, 7]\n",
    "\n",
    "# Find the largest number using the max() function\n",
    "largest_number = max(numbers)\n",
    "\n",
    "# Print the result\n",
    "print(\"The largest number in the list is:\", largest_number)\n"
   ]
  },
  {
   "cell_type": "code",
   "execution_count": 7,
   "metadata": {},
   "outputs": [
    {
     "name": "stdout",
     "output_type": "stream",
     "text": [
      "The second largest number in the list is: 7\n"
     ]
    }
   ],
   "source": [
    "#Write a Python program to find second largest number in a list?\n",
    "# Define a list of numbers\n",
    "numbers = [5, 2, 9, 1, 7]\n",
    "\n",
    "# Initialize variables to store the largest and second largest numbers\n",
    "largest_number = float('-inf')  # Set to negative infinity initially\n",
    "second_largest_number = float('-inf')\n",
    "\n",
    "# Iterate through the list to find the largest and second largest numbers\n",
    "for num in numbers:\n",
    "    if num > largest_number:\n",
    "        second_largest_number = largest_number\n",
    "        largest_number = num\n",
    "    elif num > second_largest_number and num != largest_number:\n",
    "        second_largest_number = num\n",
    "\n",
    "# Check if a second largest number was found (in case all numbers are the same)\n",
    "if second_largest_number == float('-inf'):\n",
    "    print(\"There is no second largest number in the list.\")\n",
    "else:\n",
    "    print(\"The second largest number in the list is:\", second_largest_number)\n"
   ]
  },
  {
   "cell_type": "code",
   "execution_count": 8,
   "metadata": {},
   "outputs": [
    {
     "name": "stdout",
     "output_type": "stream",
     "text": [
      "The 3 largest elements in the list are: [10, 9, 7]\n"
     ]
    }
   ],
   "source": [
    "#Write a Python program to find N largest elements from a list?\n",
    "\n",
    "import heapq\n",
    "\n",
    "# Define a list of numbers\n",
    "numbers = [5, 2, 9, 1, 7, 10, 3]\n",
    "\n",
    "# Specify the value of N (the number of largest elements to find)\n",
    "N = 3\n",
    "\n",
    "# Use the nlargest function from heapq to find the N largest elements\n",
    "largest_elements = heapq.nlargest(N, numbers)\n",
    "\n",
    "# Print the result\n",
    "print(f\"The {N} largest elements in the list are:\", largest_elements)\n"
   ]
  },
  {
   "cell_type": "code",
   "execution_count": 9,
   "metadata": {},
   "outputs": [
    {
     "name": "stdout",
     "output_type": "stream",
     "text": [
      "[2, 10]\n"
     ]
    }
   ],
   "source": [
    "#Write a Python program to print even numbers in a list?\n",
    "\n",
    "list1 = [ 5, 2, 9, 1, 7, 10, 3]\n",
    "list2 = []\n",
    "for i in list1:\n",
    "    if i%2==0:\n",
    "        list2.append(i)\n",
    "\n",
    "print(list2)"
   ]
  },
  {
   "cell_type": "code",
   "execution_count": 10,
   "metadata": {},
   "outputs": [
    {
     "name": "stdout",
     "output_type": "stream",
     "text": [
      "[5, 9, 1, 7, 3]\n"
     ]
    }
   ],
   "source": [
    "#Write a Python program to print odd numbers in a List?\n",
    "\n",
    "list1 = [ 5, 2, 9, 1, 7, 10, 3]\n",
    "list2 = []\n",
    "for i in list1:\n",
    "    if i%2!=0:\n",
    "        list2.append(i)\n",
    "\n",
    "print(list2)"
   ]
  },
  {
   "cell_type": "code",
   "execution_count": 11,
   "metadata": {},
   "outputs": [
    {
     "name": "stdout",
     "output_type": "stream",
     "text": [
      "List after removing empty lists: [[1, 2, 3], [4, 5], [6]]\n"
     ]
    }
   ],
   "source": [
    "#Write a Python program to Remove empty List from List?\n",
    "# Define a list of lists\n",
    "list_of_lists = [[1, 2, 3], [], [4, 5], [], [6], []]\n",
    "\n",
    "# Use a list comprehension to remove empty lists\n",
    "filtered_list = [sublist for sublist in list_of_lists if sublist]\n",
    "\n",
    "# Print the result\n",
    "print(\"List after removing empty lists:\", filtered_list)\n"
   ]
  },
  {
   "cell_type": "code",
   "execution_count": 12,
   "metadata": {},
   "outputs": [
    {
     "name": "stdout",
     "output_type": "stream",
     "text": [
      "Cloned List: [1, 2, 3, 4, 5]\n"
     ]
    }
   ],
   "source": [
    "#Write a Python program to Cloning or Copying a list?\n",
    "\n",
    "# Define a list\n",
    "original_list = [1, 2, 3, 4, 5]\n",
    "\n",
    "# Create a clone (copy) of the list using slicing\n",
    "cloned_list = original_list[:]\n",
    "\n",
    "# Print the cloned list\n",
    "print(\"Cloned List:\", cloned_list)\n"
   ]
  },
  {
   "cell_type": "code",
   "execution_count": 13,
   "metadata": {},
   "outputs": [
    {
     "name": "stdout",
     "output_type": "stream",
     "text": [
      "The element 2 appears 4 times in the list.\n"
     ]
    }
   ],
   "source": [
    "#Write a Python program to Count occurrences of an element in a list?\n",
    "\n",
    "# Define a list\n",
    "my_list = [1, 2, 2, 3, 4, 2, 5, 2]\n",
    "\n",
    "# Define the element you want to count\n",
    "element_to_count = 2\n",
    "\n",
    "# Use the count() method to count occurrences of the element\n",
    "count = my_list.count(element_to_count)\n",
    "\n",
    "# Print the result\n",
    "print(f\"The element {element_to_count} appears {count} times in the list.\")\n"
   ]
  }
 ],
 "metadata": {
  "kernelspec": {
   "display_name": "Python 3",
   "language": "python",
   "name": "python3"
  },
  "language_info": {
   "codemirror_mode": {
    "name": "ipython",
    "version": 3
   },
   "file_extension": ".py",
   "mimetype": "text/x-python",
   "name": "python",
   "nbconvert_exporter": "python",
   "pygments_lexer": "ipython3",
   "version": "3.10.11"
  }
 },
 "nbformat": 4,
 "nbformat_minor": 2
}
