{
 "cells": [
  {
   "cell_type": "code",
   "execution_count": 1,
   "metadata": {},
   "outputs": [
    {
     "name": "stdout",
     "output_type": "stream",
     "text": [
      "[1, 2, 3, 4]\n",
      "[0, 1729]\n",
      "[]\n"
     ]
    }
   ],
   "source": [
    "def filter_list(lst):\n",
    "    return [x for x in lst if isinstance(x, int)]\n",
    "\n",
    "# Test cases\n",
    "print(filter_list([1, 2, 3, \"a\", \"b\", 4]))              # ➞ [1, 2, 3, 4]\n",
    "print(filter_list([\"A\", 0, \"Edabit\", 1729, \"Python\", \"1729\"]))  # ➞ [0, 1729]\n",
    "print(filter_list([\"Nothing\", \"here\"]))                 # ➞ []\n"
   ]
  },
  {
   "cell_type": "code",
   "execution_count": 2,
   "metadata": {},
   "outputs": [
    {
     "name": "stdout",
     "output_type": "stream",
     "text": [
      "[0, 1, 2, 3, 4]\n",
      "[1, 3, 5, 7, 9]\n",
      "[5, 5, 5, 5, 5]\n"
     ]
    }
   ],
   "source": [
    "def add_indexes(lst):\n",
    "    return [i + x for i, x in enumerate(lst)]\n",
    "\n",
    "# Test cases\n",
    "print(add_indexes([0, 0, 0, 0, 0]))     # ➞ [0, 1, 2, 3, 4]\n",
    "print(add_indexes([1, 2, 3, 4, 5]))     # ➞ [1, 3, 5, 7, 9]\n",
    "print(add_indexes([5, 4, 3, 2, 1]))     # ➞ [5, 5, 5, 5, 5]\n"
   ]
  },
  {
   "cell_type": "code",
   "execution_count": 3,
   "metadata": {},
   "outputs": [
    {
     "name": "stdout",
     "output_type": "stream",
     "text": [
      "12.57\n",
      "565.49\n",
      "0\n"
     ]
    }
   ],
   "source": [
    "import math\n",
    "\n",
    "def cone_volume(height, radius):\n",
    "    if radius <= 0:\n",
    "        return 0\n",
    "    volume = (1/3) * math.pi * radius**2 * height\n",
    "    return round(volume, 2)\n",
    "\n",
    "# Test cases\n",
    "print(cone_volume(3, 2))   # ➞ 12.57\n",
    "print(cone_volume(15, 6))  # ➞ 565.49\n",
    "print(cone_volume(18, 0))  # ➞ 0\n"
   ]
  },
  {
   "cell_type": "code",
   "execution_count": 4,
   "metadata": {},
   "outputs": [
    {
     "name": "stdout",
     "output_type": "stream",
     "text": [
      "1\n",
      "21\n",
      "23220\n"
     ]
    }
   ],
   "source": [
    "def triangle(n):\n",
    "    return (n * (n + 1)) // 2\n",
    "\n",
    "# Test cases\n",
    "print(triangle(1))   # ➞ 1\n",
    "print(triangle(6))   # ➞ 21\n",
    "print(triangle(215)) # ➞ 23220\n"
   ]
  },
  {
   "cell_type": "code",
   "execution_count": 5,
   "metadata": {},
   "outputs": [
    {
     "name": "stdout",
     "output_type": "stream",
     "text": [
      "5\n",
      "10\n",
      "7\n"
     ]
    }
   ],
   "source": [
    "def missing_num(lst):\n",
    "    all_numbers = set(range(1, 11))  # Create a set of all numbers from 1 to 10\n",
    "    given_numbers = set(lst)         # Create a set of the given numbers\n",
    "    missing_numbers = all_numbers - given_numbers  # Find the missing numbers\n",
    "    return missing_numbers.pop()    # Return the missing number\n",
    "\n",
    "# Test cases\n",
    "print(missing_num([1, 2, 3, 4, 6, 7, 8, 9, 10]))   # ➞ 5\n",
    "print(missing_num([7, 2, 3, 6, 5, 9, 1, 4, 8]))    # ➞ 10\n",
    "print(missing_num([10, 5, 1, 2, 4, 6, 8, 3, 9]))  # ➞ 7\n"
   ]
  }
 ],
 "metadata": {
  "kernelspec": {
   "display_name": "Python 3",
   "language": "python",
   "name": "python3"
  },
  "language_info": {
   "codemirror_mode": {
    "name": "ipython",
    "version": 3
   },
   "file_extension": ".py",
   "mimetype": "text/x-python",
   "name": "python",
   "nbconvert_exporter": "python",
   "pygments_lexer": "ipython3",
   "version": "3.10.11"
  }
 },
 "nbformat": 4,
 "nbformat_minor": 2
}
