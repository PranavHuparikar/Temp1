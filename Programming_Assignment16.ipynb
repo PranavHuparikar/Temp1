{
 "cells": [
  {
   "cell_type": "code",
   "execution_count": 1,
   "metadata": {},
   "outputs": [
    {
     "name": "stdout",
     "output_type": "stream",
     "text": [
      "in... in... incredible?\n",
      "en... en... enthusiastic?\n",
      "ou... ou... outstanding?\n"
     ]
    }
   ],
   "source": [
    "def stutter(word):\n",
    "    # Check if the word has at least two characters\n",
    "    if len(word) < 2:\n",
    "        return \"Word must be at least two characters long.\"\n",
    "\n",
    "    # Extract the first two characters\n",
    "    first_two = word[:2]\n",
    "\n",
    "    # Create the stuttered version\n",
    "    stuttered_word = f\"{first_two}... {first_two}... {word}?\"\n",
    "    \n",
    "    return stuttered_word\n",
    "\n",
    "# Examples\n",
    "print(stutter(\"incredible\"))    # Output: \"in... in... incredible?\"\n",
    "print(stutter(\"enthusiastic\"))  # Output: \"en... en... enthusiastic?\"\n",
    "print(stutter(\"outstanding\"))   # Output: \"ou... ou... outstanding?\"\n"
   ]
  },
  {
   "cell_type": "code",
   "execution_count": 2,
   "metadata": {},
   "outputs": [
    {
     "name": "stdout",
     "output_type": "stream",
     "text": [
      "57.3\n",
      "1145.9\n",
      "2864.8\n"
     ]
    }
   ],
   "source": [
    "import math\n",
    "\n",
    "def radians_to_degrees(radians):\n",
    "    degrees = radians * (180 / math.pi)\n",
    "    return round(degrees, 1)\n",
    "\n",
    "# Examples\n",
    "print(radians_to_degrees(1))   # Output: 57.3\n",
    "print(radians_to_degrees(20))  # Output: 1145.9\n",
    "print(radians_to_degrees(50))  # Output: 2864.8\n"
   ]
  },
  {
   "cell_type": "code",
   "execution_count": 3,
   "metadata": {},
   "outputs": [
    {
     "name": "stdout",
     "output_type": "stream",
     "text": [
      "True\n",
      "False\n",
      "True\n"
     ]
    }
   ],
   "source": [
    "def is_curzon(num):\n",
    "    numerator = 2 ** num + 1\n",
    "    denominator = 2 * num + 1\n",
    "\n",
    "    return numerator % denominator == 0\n",
    "\n",
    "# Examples\n",
    "print(is_curzon(5))   # Output: True\n",
    "print(is_curzon(10))  # Output: False\n",
    "print(is_curzon(14))  # Output: True\n"
   ]
  },
  {
   "cell_type": "code",
   "execution_count": 4,
   "metadata": {},
   "outputs": [
    {
     "name": "stdout",
     "output_type": "stream",
     "text": [
      "2.6\n",
      "10.4\n",
      "23.4\n"
     ]
    }
   ],
   "source": [
    "import math\n",
    "\n",
    "def area_of_hexagon(x):\n",
    "    # Calculate the area using the formula\n",
    "    area = (3 * math.sqrt(3) * x ** 2) / 2\n",
    "    return round(area, 1)\n",
    "\n",
    "# Examples\n",
    "print(area_of_hexagon(1))  # Output: 2.6\n",
    "print(area_of_hexagon(2))  # Output: 10.4\n",
    "print(area_of_hexagon(3))  # Output: 23.4\n"
   ]
  },
  {
   "cell_type": "code",
   "execution_count": 5,
   "metadata": {},
   "outputs": [
    {
     "name": "stdout",
     "output_type": "stream",
     "text": [
      "1\n",
      "101\n",
      "1010\n"
     ]
    }
   ],
   "source": [
    "def binary(decimal_number):\n",
    "    if decimal_number == 0:\n",
    "        return \"0\"\n",
    "    \n",
    "    binary_string = \"\"\n",
    "    \n",
    "    while decimal_number > 0:\n",
    "        remainder = decimal_number % 2\n",
    "        binary_string = str(remainder) + binary_string\n",
    "        decimal_number = decimal_number // 2\n",
    "    \n",
    "    return binary_string\n",
    "\n",
    "# Examples\n",
    "print(binary(1))   # Output: \"1\"\n",
    "print(binary(5))   # Output: \"101\"\n",
    "print(binary(10))  # Output: \"1010\"\n"
   ]
  }
 ],
 "metadata": {
  "kernelspec": {
   "display_name": "Python 3",
   "language": "python",
   "name": "python3"
  },
  "language_info": {
   "codemirror_mode": {
    "name": "ipython",
    "version": 3
   },
   "file_extension": ".py",
   "mimetype": "text/x-python",
   "name": "python",
   "nbconvert_exporter": "python",
   "pygments_lexer": "ipython3",
   "version": "3.10.11"
  }
 },
 "nbformat": 4,
 "nbformat_minor": 2
}
