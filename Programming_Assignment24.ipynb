{
 "cells": [
  {
   "cell_type": "code",
   "execution_count": 1,
   "metadata": {},
   "outputs": [
    {
     "name": "stdout",
     "output_type": "stream",
     "text": [
      "[1, 2, 3, 40]\n",
      "[1, 2, 3]\n",
      "[1, 2, 3, 40, 5, 6, 7, 80, 9, 10, 11, 120, 13, 14, 15, 160, 17, 18, 19, 200, 21, 22, 23, 240, 25]\n"
     ]
    }
   ],
   "source": [
    "def amplify(num):\n",
    "    # Use list comprehension to generate the list\n",
    "    return [(i * 10) if i % 4 == 0 else i for i in range(1, num + 1)]\n",
    "\n",
    "print(amplify(4))    # [1, 2, 3, 40]\n",
    "print(amplify(3))    # [1, 2, 3]\n",
    "print(amplify(25))   # [1, 2, 3, 40, 5, 6, 7, 80, 9, 10, 11, 120, 13, 14, 15, 160, 17, 18, 19, 200, 21, 22, 23, 240, 25]\n"
   ]
  },
  {
   "cell_type": "code",
   "execution_count": 2,
   "metadata": {},
   "outputs": [
    {
     "name": "stdout",
     "output_type": "stream",
     "text": [
      "7\n",
      "0.77\n",
      "0\n"
     ]
    }
   ],
   "source": [
    "def unique(numbers):\n",
    "    # Initialize a dictionary to store the count of each number\n",
    "    count_dict = {}\n",
    "    \n",
    "    # Iterate through the numbers and count their occurrences\n",
    "    for num in numbers:\n",
    "        if num in count_dict:\n",
    "            count_dict[num] += 1\n",
    "        else:\n",
    "            count_dict[num] = 1\n",
    "    \n",
    "    # Iterate through the dictionary to find the unique number\n",
    "    for num, count in count_dict.items():\n",
    "        if count == 1:\n",
    "            return num\n",
    "\n",
    "# Test cases\n",
    "print(unique([3, 3, 3, 7, 3, 3]))        # 7\n",
    "print(unique([0, 0, 0.77, 0, 0]))       # 0.77\n",
    "print(unique([0, 1, 1, 1, 1, 1, 1, 1]))  # 0\n"
   ]
  },
  {
   "cell_type": "code",
   "execution_count": 8,
   "metadata": {},
   "outputs": [
    {
     "name": "stdout",
     "output_type": "stream",
     "text": [
      "381\n",
      "28\n"
     ]
    }
   ],
   "source": [
    "import math\n",
    "\n",
    "class Circle:\n",
    "    def __init__(self, radius):\n",
    "        self.radius = radius\n",
    "\n",
    "    def getArea(self):\n",
    "        # Calculate the area of the circle (πr^2) and round it up to the nearest integer\n",
    "        area = math.ceil(math.pi * self.radius**2)\n",
    "        return area\n",
    "\n",
    "    def getPerimeter(self):\n",
    "        # Calculate the perimeter of the circle (2πr) and round it up to the nearest integer\n",
    "        perimeter = math.ceil(2 * math.pi * self.radius)\n",
    "        return perimeter\n",
    "\n",
    "# Examples\n",
    "circy = Circle(11)\n",
    "print(circy.getArea())       # Should return 380\n",
    "circy = Circle(4.44)\n",
    "print(circy.getPerimeter())  # Should return 28\n"
   ]
  },
  {
   "cell_type": "code",
   "execution_count": 9,
   "metadata": {},
   "outputs": [
    {
     "name": "stdout",
     "output_type": "stream",
     "text": [
      "['Apple', 'Google', 'Microsoft']\n",
      "['Raphael', 'Leonardo', 'Donatello', 'Michelangelo']\n",
      "['Jung', 'Turing', 'Einstein']\n"
     ]
    }
   ],
   "source": [
    "def sort_by_length(strings):\n",
    "    # Use the sorted function to sort the list based on string length\n",
    "    sorted_strings = sorted(strings, key=lambda x: len(x))\n",
    "    \n",
    "    return sorted_strings\n",
    "\n",
    "# Examples\n",
    "print(sort_by_length([\"Google\", \"Apple\", \"Microsoft\"]))\n",
    "# Should return [\"Apple\", \"Google\", \"Microsoft\"]\n",
    "\n",
    "print(sort_by_length([\"Leonardo\", \"Michelangelo\", \"Raphael\", \"Donatello\"]))\n",
    "# Should return [\"Raphael\", \"Leonardo\", \"Donatello\", \"Michelangelo\"]\n",
    "\n",
    "print(sort_by_length([\"Turing\", \"Einstein\", \"Jung\"]))\n",
    "# Should return [\"Jung\", \"Turing\", \"Einstein\"]\n"
   ]
  },
  {
   "cell_type": "code",
   "execution_count": 10,
   "metadata": {},
   "outputs": [
    {
     "name": "stdout",
     "output_type": "stream",
     "text": [
      "True\n",
      "True\n",
      "False\n"
     ]
    }
   ],
   "source": [
    "def is_triplet(a, b, c):\n",
    "    # Sort the three numbers\n",
    "    sorted_numbers = sorted([a, b, c])\n",
    "    \n",
    "    # Extract the sorted numbers\n",
    "    x, y, z = sorted_numbers\n",
    "    \n",
    "    # Check if it's a Pythagorean triplet\n",
    "    return x**2 + y**2 == z**2\n",
    "\n",
    "# Examples\n",
    "print(is_triplet(3, 4, 5))      # True\n",
    "print(is_triplet(13, 5, 12))    # True\n",
    "print(is_triplet(1, 2, 3))      # False\n"
   ]
  }
 ],
 "metadata": {
  "kernelspec": {
   "display_name": "Python 3",
   "language": "python",
   "name": "python3"
  },
  "language_info": {
   "codemirror_mode": {
    "name": "ipython",
    "version": 3
   },
   "file_extension": ".py",
   "mimetype": "text/x-python",
   "name": "python",
   "nbconvert_exporter": "python",
   "pygments_lexer": "ipython3",
   "version": "3.10.11"
  }
 },
 "nbformat": 4,
 "nbformat_minor": 2
}
