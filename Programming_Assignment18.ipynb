{
 "cells": [
  {
   "cell_type": "code",
   "execution_count": 1,
   "metadata": {},
   "outputs": [
    {
     "name": "stdout",
     "output_type": "stream",
     "text": [
      "[1, 2]\n",
      "[1, 0, 15]\n",
      "[1, 2, 123]\n"
     ]
    }
   ],
   "source": [
    "def filter_list(lst):\n",
    "    return [x for x in lst if isinstance(x, int)]\n",
    "\n",
    "# Test cases\n",
    "print(filter_list([1, 2, \"a\", \"b\"]))              # ➞ [1, 2]\n",
    "print(filter_list([1, \"a\", \"b\", 0, 15]))         # ➞ [1, 0, 15]\n",
    "print(filter_list([1, 2, \"aasf\", \"1\", \"123\", 123]))  # ➞ [1, 2, 123]\n"
   ]
  },
  {
   "cell_type": "code",
   "execution_count": 2,
   "metadata": {},
   "outputs": [
    {
     "name": "stdout",
     "output_type": "stream",
     "text": [
      "DLROw OLLEh\n",
      "eSrEvEr\n",
      "RADAr\n"
     ]
    }
   ],
   "source": [
    "def reverse(s):\n",
    "    reversed_string = s[::-1]  # Reverse the string\n",
    "    reversed_string_with_opposite_case = ''.join(\n",
    "        [char.upper() if char.islower() else char.lower() for char in reversed_string]\n",
    "    )\n",
    "    return reversed_string_with_opposite_case\n",
    "\n",
    "# Test cases\n",
    "print(reverse(\"Hello World\"))  # ➞ \"DLROw OLLEh\"\n",
    "print(reverse(\"ReVeRsE\"))      # ➞ \"eSrEvEr\"\n",
    "print(reverse(\"Radar\"))        # ➞ \"RADAr\"\n"
   ]
  },
  {
   "cell_type": "code",
   "execution_count": 3,
   "metadata": {},
   "outputs": [
    {
     "name": "stdout",
     "output_type": "stream",
     "text": [
      "1\n",
      "[2, 3, 4, 5]\n",
      "6\n"
     ]
    }
   ],
   "source": [
    "# Given list\n",
    "writeyourcodehere = [1, 2, 3, 4, 5, 6]\n",
    "\n",
    "# Unpack the list into variables\n",
    "first, *middle, last = writeyourcodehere\n",
    "\n",
    "# Print the variables\n",
    "print(first)   # ➞ 1\n",
    "print(middle)  # ➞ [2, 3, 4, 5]\n",
    "print(last)    # ➞ 6\n"
   ]
  },
  {
   "cell_type": "code",
   "execution_count": 4,
   "metadata": {},
   "outputs": [
    {
     "name": "stdout",
     "output_type": "stream",
     "text": [
      "120\n",
      "6\n",
      "1\n",
      "1\n"
     ]
    }
   ],
   "source": [
    "def factorial(n):\n",
    "    if n == 0 or n == 1:\n",
    "        return 1\n",
    "    else:\n",
    "        return n * factorial(n - 1)\n",
    "\n",
    "# Test cases\n",
    "print(factorial(5))  # ➞ 120\n",
    "print(factorial(3))  # ➞ 6\n",
    "print(factorial(1))  # ➞ 1\n",
    "print(factorial(0))  # ➞ 1\n"
   ]
  },
  {
   "cell_type": "code",
   "execution_count": 5,
   "metadata": {},
   "outputs": [
    {
     "name": "stdout",
     "output_type": "stream",
     "text": [
      "[3, 2, 4, 4, 1, 1]\n",
      "[7, 8, 1, 2, 3, 4, 9]\n",
      "['b', 'a', 'a', 'a']\n"
     ]
    }
   ],
   "source": [
    "def move_to_end(lst, element_to_move):\n",
    "    # Filter out the specified element and keep its occurrences\n",
    "    element_occurrences = [el for el in lst if el == element_to_move]\n",
    "    \n",
    "    # Remove all occurrences of the specified element from the list\n",
    "    lst = [el for el in lst if el != element_to_move]\n",
    "    \n",
    "    # Append the filtered element occurrences to the end of the list\n",
    "    lst.extend(element_occurrences)\n",
    "    \n",
    "    return lst\n",
    "\n",
    "# Test cases\n",
    "print(move_to_end([1, 3, 2, 4, 4, 1], 1))           # ➞ [3, 2, 4, 4, 1, 1]\n",
    "print(move_to_end([7, 8, 9, 1, 2, 3, 4], 9))         # ➞ [7, 8, 1, 2, 3, 4, 9]\n",
    "print(move_to_end([\"a\", \"a\", \"a\", \"b\"], \"a\"))       # ➞ [\"b\", \"a\", \"a\", \"a\"]\n"
   ]
  }
 ],
 "metadata": {
  "kernelspec": {
   "display_name": "Python 3",
   "language": "python",
   "name": "python3"
  },
  "language_info": {
   "codemirror_mode": {
    "name": "ipython",
    "version": 3
   },
   "file_extension": ".py",
   "mimetype": "text/x-python",
   "name": "python",
   "nbconvert_exporter": "python",
   "pygments_lexer": "ipython3",
   "version": "3.10.11"
  }
 },
 "nbformat": 4,
 "nbformat_minor": 2
}
