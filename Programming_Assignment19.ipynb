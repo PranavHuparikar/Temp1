{
 "cells": [
  {
   "cell_type": "code",
   "execution_count": 1,
   "metadata": {},
   "outputs": [
    {
     "name": "stdout",
     "output_type": "stream",
     "text": [
      "SSttrriinngg\n",
      "HHeelllloo  WWoorrlldd!!\n",
      "11223344!!__  \n"
     ]
    }
   ],
   "source": [
    "def double_char(s):\n",
    "    result = ''\n",
    "    for char in s:\n",
    "        result += char * 2\n",
    "    return result\n",
    "\n",
    "# Test cases\n",
    "print(double_char(\"String\"))         # ➞ \"SSttrriinngg\"\n",
    "print(double_char(\"Hello World!\"))    # ➞ \"HHeelllloo WWoorrlldd!!\"\n",
    "print(double_char(\"1234!_ \"))        # ➞ \"11223344!!__ \"\n"
   ]
  },
  {
   "cell_type": "code",
   "execution_count": 2,
   "metadata": {},
   "outputs": [
    {
     "name": "stdout",
     "output_type": "stream",
     "text": [
      "False\n",
      "True\n",
      "boolean expected\n",
      "boolean expected\n"
     ]
    }
   ],
   "source": [
    "def reverse(value):\n",
    "    if isinstance(value, bool):\n",
    "        return not value\n",
    "    else:\n",
    "        return \"boolean expected\"\n",
    "\n",
    "# Test cases\n",
    "print(reverse(True))   # ➞ False\n",
    "print(reverse(False))  # ➞ True\n",
    "print(reverse(0))      # ➞ \"boolean expected\"\n",
    "print(reverse(None))   # ➞ \"boolean expected\"\n"
   ]
  },
  {
   "cell_type": "code",
   "execution_count": 3,
   "metadata": {},
   "outputs": [
    {
     "name": "stdout",
     "output_type": "stream",
     "text": [
      "0.001m\n",
      "0.008m\n",
      "1048.576m\n"
     ]
    }
   ],
   "source": [
    "def num_layers(n):\n",
    "    # Convert the initial thickness from millimeters to meters (1mm = 0.001m)\n",
    "    thickness_meters = 0.5 * 0.001\n",
    "\n",
    "    # Calculate the thickness after folding n times\n",
    "    folded_thickness = thickness_meters * (2 ** n)\n",
    "\n",
    "    # Format the result as a string with 3 decimal places\n",
    "    formatted_thickness = \"{:.3f}\".format(folded_thickness)\n",
    "\n",
    "    return formatted_thickness + \"m\"\n",
    "\n",
    "# Test cases\n",
    "print(num_layers(1))    # ➞ \"0.001m\"\n",
    "print(num_layers(4))    # ➞ \"0.008m\"\n",
    "print(num_layers(21))   # ➞ \"1048.576m\"\n"
   ]
  },
  {
   "cell_type": "code",
   "execution_count": 4,
   "metadata": {},
   "outputs": [
    {
     "name": "stdout",
     "output_type": "stream",
     "text": [
      "[1, 3, 5]\n",
      "[1, 3, 4, 6]\n",
      "[]\n",
      "[0, 1, 2, 3, 4, 5]\n",
      "[1]\n"
     ]
    }
   ],
   "source": [
    "def index_of_caps(word):\n",
    "    indices = []\n",
    "    for i, char in enumerate(word):\n",
    "        if char.isupper():\n",
    "            indices.append(i)\n",
    "    return indices\n",
    "\n",
    "# Test cases\n",
    "print(index_of_caps(\"eDaBiT\"))   # ➞ [1, 3, 5]\n",
    "print(index_of_caps(\"eQuINoX\"))  # ➞ [1, 3, 4, 6]\n",
    "print(index_of_caps(\"determine\")) # ➞ []\n",
    "print(index_of_caps(\"STRIKE\"))    # ➞ [0, 1, 2, 3, 4, 5]\n",
    "print(index_of_caps(\"sUn\"))       # ➞ [1]\n"
   ]
  },
  {
   "cell_type": "code",
   "execution_count": 5,
   "metadata": {},
   "outputs": [
    {
     "name": "stdout",
     "output_type": "stream",
     "text": [
      "[2, 4, 6, 8]\n",
      "[2, 4]\n",
      "[2]\n"
     ]
    }
   ],
   "source": [
    "def find_even_nums(n):\n",
    "    return [num for num in range(1, n + 1) if num % 2 == 0]\n",
    "\n",
    "# Test cases\n",
    "print(find_even_nums(8))  # ➞ [2, 4, 6, 8]\n",
    "print(find_even_nums(4))  # ➞ [2, 4]\n",
    "print(find_even_nums(2))  # ➞ [2]\n"
   ]
  }
 ],
 "metadata": {
  "kernelspec": {
   "display_name": "Python 3",
   "language": "python",
   "name": "python3"
  },
  "language_info": {
   "codemirror_mode": {
    "name": "ipython",
    "version": 3
   },
   "file_extension": ".py",
   "mimetype": "text/x-python",
   "name": "python",
   "nbconvert_exporter": "python",
   "pygments_lexer": "ipython3",
   "version": "3.10.11"
  }
 },
 "nbformat": 4,
 "nbformat_minor": 2
}
