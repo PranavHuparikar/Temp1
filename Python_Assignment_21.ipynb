{
 "cells": [
  {
   "cell_type": "code",
   "execution_count": 1,
   "metadata": {},
   "outputs": [],
   "source": [
    "from datetime import date\n",
    "\n",
    "# Get the current date\n",
    "current_date = date.today()\n",
    "\n",
    "# Open the file in append mode and write the date\n",
    "with open('today.txt', 'a') as file:\n",
    "    file.write(str(current_date) + '\\n')\n"
   ]
  },
  {
   "cell_type": "code",
   "execution_count": 2,
   "metadata": {},
   "outputs": [
    {
     "name": "stdout",
     "output_type": "stream",
     "text": [
      "2023-10-15\n",
      "\n"
     ]
    }
   ],
   "source": [
    "# Read the contents of the file into a string\n",
    "with open('today.txt', 'r') as file:\n",
    "    today_string = file.read()\n",
    "\n",
    "# Print the string to verify the contents\n",
    "print(today_string)\n"
   ]
  },
  {
   "cell_type": "code",
   "execution_count": 3,
   "metadata": {},
   "outputs": [
    {
     "name": "stdout",
     "output_type": "stream",
     "text": [
      "2023-10-15\n"
     ]
    }
   ],
   "source": [
    "from datetime import datetime\n",
    "\n",
    "# Assuming today_string contains the date in the format 'YYYY-MM-DD'\n",
    "today_string = \"2023-10-15\"  # Example date string\n",
    "\n",
    "# Parse the date from the string\n",
    "parsed_date = datetime.strptime(today_string, '%Y-%m-%d').date()\n",
    "\n",
    "# Print the parsed date\n",
    "print(parsed_date)\n"
   ]
  },
  {
   "cell_type": "code",
   "execution_count": 4,
   "metadata": {},
   "outputs": [
    {
     "name": "stdout",
     "output_type": "stream",
     "text": [
      "Assignment_1.doc\n",
      "Assignment_1.docx\n",
      "Assignment_2.doc\n",
      "Assignment_3.docx\n",
      "Assignment_4.docx\n",
      "Assignment_5.docx\n",
      "Programming_Assignment1.ipynb\n",
      "Programming_Assignment10.ipynb\n",
      "Programming_Assignment11.ipynb\n",
      "Programming_Assignment12.ipynb\n",
      "Programming_Assignment13.ipynb\n",
      "Programming_Assignment14.ipynb\n",
      "Programming_Assignment15.ipynb\n",
      "Programming_Assignment16.ipynb\n",
      "Programming_Assignment17.ipynb\n",
      "Programming_Assignment18.ipynb\n",
      "Programming_Assignment19.ipynb\n",
      "Programming_Assignment2.ipynb\n",
      "Programming_Assignment20.ipynb\n",
      "Programming_Assignment21.ipynb\n",
      "Programming_Assignment22.ipynb\n",
      "Programming_Assignment23.ipynb\n",
      "Programming_Assignment24.ipynb\n",
      "Programming_Assignment25.ipynb\n",
      "Programming_Assignment3.ipynb\n",
      "Programming_Assignment4.ipynb\n",
      "Programming_Assignment5.ipynb\n",
      "Programming_Assignment6.ipynb\n",
      "Programming_Assignment7.ipynb\n",
      "Programming_Assignment8.ipynb\n",
      "Programming_Assignment9.ipynb\n",
      "Python_Assignment_21.ipynb\n",
      "today.txt\n"
     ]
    }
   ],
   "source": [
    "import os\n",
    "\n",
    "# List files in the current directory\n",
    "files = os.listdir()  # If the directory path is not specified, it lists files in the current directory\n",
    "\n",
    "# Print the list of files\n",
    "for file in files:\n",
    "    print(file)\n"
   ]
  },
  {
   "cell_type": "code",
   "execution_count": 5,
   "metadata": {},
   "outputs": [
    {
     "name": "stdout",
     "output_type": "stream",
     "text": [
      "$RECYCLE.BIN\n",
      "471.41-desktop-win10-64bit-international-dch-whql.exe\n",
      "AIML in Pharmaceutical Research(Version2).docx\n",
      "AIML in Pharmaceutical Research.docx\n",
      "Data Drift and Model Drift .pptx\n",
      "DL\n",
      "FORSK\n",
      "Future Trends and Challenges.docx\n",
      "Integration of Ayurveda and AIML(Version2).docx\n",
      "Intro to AI ML.docx\n",
      "job roles for candidates in healthcare domain.pptx\n",
      "Ladakh Trip\n",
      "linkedin1.pptx\n",
      "linkedin2.pptx\n",
      "Machine Learning Algorithms.docx\n",
      "ML\n",
      "msdownld.tmp\n",
      "New Folder - 1\n",
      "Practical AIML Tools.docx\n",
      "python libraries for ai in healthcare.docx\n",
      "Python_Basics_Assignments\n",
      "Recovery\n",
      "System Volume Information\n",
      "Temp_API\n",
      "windows key.txt\n",
      "Windows10Upgrade\n",
      "Zomato\n"
     ]
    }
   ],
   "source": [
    "import os\n",
    "\n",
    "# Specify the path to the parent directory\n",
    "parent_directory = os.path.abspath(os.path.join(os.getcwd(), os.pardir))\n",
    "\n",
    "# List files in the parent directory\n",
    "files_in_parent = os.listdir(parent_directory)\n",
    "\n",
    "# Print the list of files in the parent directory\n",
    "for file in files_in_parent:\n",
    "    print(file)\n"
   ]
  },
  {
   "cell_type": "code",
   "execution_count": 6,
   "metadata": {},
   "outputs": [],
   "source": [
    "import multiprocessing\n",
    "import random\n",
    "import time\n",
    "from datetime import datetime\n",
    "\n",
    "def worker():\n",
    "    # Generate a random sleep time between 1 and 5 seconds\n",
    "    sleep_time = random.randint(1, 5)\n",
    "    time.sleep(sleep_time)\n",
    "    current_time = datetime.now().strftime(\"%Y-%m-%d %H:%M:%S\")\n",
    "    print(f\"Current Time: {current_time}\")\n",
    "\n",
    "if __name__ == '__main__':\n",
    "    processes = []\n",
    "    for i in range(3):\n",
    "        p = multiprocessing.Process(target=worker)\n",
    "        processes.append(p)\n",
    "        p.start()\n",
    "\n",
    "    for process in processes:\n",
    "        process.join()\n"
   ]
  },
  {
   "cell_type": "code",
   "execution_count": 7,
   "metadata": {},
   "outputs": [
    {
     "name": "stdout",
     "output_type": "stream",
     "text": [
      "1995-01-03\n"
     ]
    }
   ],
   "source": [
    "from datetime import datetime\n",
    "\n",
    "# Create a date object for the day of birth\n",
    "day_of_birth = datetime(year=1995, month=1, day=3).date()  # Replace with your actual day of birth\n",
    "\n",
    "# Print the date of birth\n",
    "print(day_of_birth)\n"
   ]
  },
  {
   "cell_type": "code",
   "execution_count": 8,
   "metadata": {},
   "outputs": [
    {
     "name": "stdout",
     "output_type": "stream",
     "text": [
      "The day of the week for the date of birth is: Tuesday\n"
     ]
    }
   ],
   "source": [
    "from datetime import datetime\n",
    "\n",
    "# Specify the date of birth\n",
    "day_of_birth = datetime(year=1995, month=1, day=3)  # Replace with your actual day of birth\n",
    "\n",
    "# Determine the day of the week\n",
    "day_of_week = day_of_birth.strftime(\"%A\")\n",
    "\n",
    "# Print the day of the week\n",
    "print(f\"The day of the week for the date of birth is: {day_of_week}\")\n"
   ]
  },
  {
   "cell_type": "code",
   "execution_count": 9,
   "metadata": {},
   "outputs": [
    {
     "name": "stdout",
     "output_type": "stream",
     "text": [
      "The date 10,000 days from the starting date is: 2017-05-19\n"
     ]
    }
   ],
   "source": [
    "from datetime import datetime, timedelta\n",
    "\n",
    "# Define the starting date (replace with your actual starting date)\n",
    "start_date = datetime(year=1990, month=1, day=1)\n",
    "\n",
    "# Calculate the date 10,000 days from the starting date\n",
    "future_date = start_date + timedelta(days=10000)\n",
    "\n",
    "# Print the calculated date\n",
    "print(f\"The date 10,000 days from the starting date is: {future_date.strftime('%Y-%m-%d')}\")\n"
   ]
  }
 ],
 "metadata": {
  "kernelspec": {
   "display_name": "Python 3",
   "language": "python",
   "name": "python3"
  },
  "language_info": {
   "codemirror_mode": {
    "name": "ipython",
    "version": 3
   },
   "file_extension": ".py",
   "mimetype": "text/x-python",
   "name": "python",
   "nbconvert_exporter": "python",
   "pygments_lexer": "ipython3",
   "version": "3.10.11"
  }
 },
 "nbformat": 4,
 "nbformat_minor": 2
}
