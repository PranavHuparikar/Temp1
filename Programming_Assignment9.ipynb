{
 "cells": [
  {
   "cell_type": "code",
   "execution_count": 4,
   "metadata": {},
   "outputs": [
    {
     "name": "stdout",
     "output_type": "stream",
     "text": [
      "5 is a Disarium number.\n"
     ]
    }
   ],
   "source": [
    "#Write a Python program to check if the given number is a Disarium Number?\n",
    "\n",
    "def is_disarium_number(num):\n",
    "    # Convert the number to a string to access individual digits\n",
    "    num_str = str(num)\n",
    "    length = len(num_str)\n",
    "    sum_of_powers = 0\n",
    "\n",
    "    for i, digit_char in enumerate(num_str):\n",
    "        digit = int(digit_char)\n",
    "        sum_of_powers += digit ** (i + 1)\n",
    "\n",
    "    return sum_of_powers == num\n",
    "\n",
    "# Input a number from the user\n",
    "try:\n",
    "    num = int(input(\"Enter a number: \"))\n",
    "\n",
    "    if is_disarium_number(num):\n",
    "        print(f\"{num} is a Disarium number.\")\n",
    "    else:\n",
    "        print(f\"{num} is not a Disarium number.\")\n",
    "except ValueError:\n",
    "    print(\"Invalid input. Please enter a valid number.\")\n"
   ]
  },
  {
   "cell_type": "code",
   "execution_count": 6,
   "metadata": {},
   "outputs": [
    {
     "name": "stdout",
     "output_type": "stream",
     "text": [
      "Disarium numbers between 1 and 100:\n",
      "[1, 2, 3, 4, 5, 6, 7, 8, 9, 89]\n"
     ]
    }
   ],
   "source": [
    "#Write a Python program to print all disarium numbers between 1 to 100?\n",
    "\n",
    "def is_disarium_number(num):\n",
    "    num_str = str(num)\n",
    "    length = len(num_str)\n",
    "    sum_of_powers = 0\n",
    "\n",
    "    for i, digit_char in enumerate(num_str):\n",
    "        digit = int(digit_char)\n",
    "        sum_of_powers += digit ** (i + 1)\n",
    "\n",
    "    return sum_of_powers == num\n",
    "\n",
    "# Find and print Disarium numbers between 1 and 100\n",
    "disarium_numbers = []\n",
    "\n",
    "for num in range(1, 101):\n",
    "    if is_disarium_number(num):\n",
    "        disarium_numbers.append(num)\n",
    "\n",
    "if disarium_numbers:\n",
    "    print(\"Disarium numbers between 1 and 100:\")\n",
    "    print(disarium_numbers)\n",
    "else:\n",
    "    print(\"No Disarium numbers found between 1 and 100.\")\n"
   ]
  },
  {
   "cell_type": "code",
   "execution_count": 7,
   "metadata": {},
   "outputs": [
    {
     "name": "stdout",
     "output_type": "stream",
     "text": [
      "55 is not a Happy Number.\n"
     ]
    }
   ],
   "source": [
    "#Write a Python program to check if the given number is Happy Number?\n",
    "\n",
    "def is_happy_number(num):\n",
    "    def get_next(n):\n",
    "        next_num = 0\n",
    "        while n > 0:\n",
    "            digit = n % 10\n",
    "            next_num += digit ** 2\n",
    "            n //= 10\n",
    "        return next_num\n",
    "\n",
    "    seen = set()\n",
    "    while num != 1 and num not in seen:\n",
    "        seen.add(num)\n",
    "        num = get_next(num)\n",
    "\n",
    "    return num == 1\n",
    "\n",
    "# Input a number from the user\n",
    "try:\n",
    "    num = int(input(\"Enter a number: \"))\n",
    "\n",
    "    if is_happy_number(num):\n",
    "        print(f\"{num} is a Happy Number.\")\n",
    "    else:\n",
    "        print(f\"{num} is not a Happy Number.\")\n",
    "except ValueError:\n",
    "    print(\"Invalid input. Please enter a valid number.\")\n"
   ]
  },
  {
   "cell_type": "code",
   "execution_count": 8,
   "metadata": {},
   "outputs": [
    {
     "name": "stdout",
     "output_type": "stream",
     "text": [
      "Happy numbers between 1 and 100:\n",
      "[1, 7, 10, 13, 19, 23, 28, 31, 32, 44, 49, 68, 70, 79, 82, 86, 91, 94, 97, 100]\n"
     ]
    }
   ],
   "source": [
    "#Write a Python program to print all happy numbers between 1 and 100?\n",
    "\n",
    "def is_happy_number(num):\n",
    "    def get_next(n):\n",
    "        next_num = 0\n",
    "        while n > 0:\n",
    "            digit = n % 10\n",
    "            next_num += digit ** 2\n",
    "            n //= 10\n",
    "        return next_num\n",
    "\n",
    "    seen = set()\n",
    "    while num != 1 and num not in seen:\n",
    "        seen.add(num)\n",
    "        num = get_next(num)\n",
    "\n",
    "    return num == 1\n",
    "\n",
    "# Find and print happy numbers between 1 and 100\n",
    "happy_numbers = []\n",
    "\n",
    "for num in range(1, 101):\n",
    "    if is_happy_number(num):\n",
    "        happy_numbers.append(num)\n",
    "\n",
    "if happy_numbers:\n",
    "    print(\"Happy numbers between 1 and 100:\")\n",
    "    print(happy_numbers)\n",
    "else:\n",
    "    print(\"No happy numbers found between 1 and 100.\")\n"
   ]
  },
  {
   "cell_type": "code",
   "execution_count": 9,
   "metadata": {},
   "outputs": [
    {
     "name": "stdout",
     "output_type": "stream",
     "text": [
      "23 is not a Harshad Number.\n"
     ]
    }
   ],
   "source": [
    "#Write a Python program to determine whether the given number is a Harshad Number?\n",
    "\n",
    "def is_harshad_number(num):\n",
    "    # Calculate the sum of digits\n",
    "    digit_sum = sum(int(digit) for digit in str(num))\n",
    "    \n",
    "    # Check if the number is divisible by the sum of its digits\n",
    "    return num % digit_sum == 0\n",
    "\n",
    "# Input a number from the user\n",
    "try:\n",
    "    num = int(input(\"Enter a number: \"))\n",
    "\n",
    "    if is_harshad_number(num):\n",
    "        print(f\"{num} is a Harshad Number.\")\n",
    "    else:\n",
    "        print(f\"{num} is not a Harshad Number.\")\n",
    "except ValueError:\n",
    "    print(\"Invalid input. Please enter a valid number.\")\n"
   ]
  },
  {
   "cell_type": "code",
   "execution_count": 10,
   "metadata": {},
   "outputs": [
    {
     "name": "stdout",
     "output_type": "stream",
     "text": [
      "Pronic numbers between 1 and 100:\n",
      "[2, 6, 12, 20, 30, 42, 56, 72, 90]\n"
     ]
    }
   ],
   "source": [
    "#Write a Python program to print all pronic numbers between 1 and 100?\n",
    "\n",
    "# Find and print pronic numbers between 1 and 100\n",
    "pronic_numbers = []\n",
    "\n",
    "for num in range(1, 101):\n",
    "    # Calculate the product of consecutive integers\n",
    "    product = num * (num + 1)\n",
    "    \n",
    "    # Check if the product matches the original number\n",
    "    if product <= 100:\n",
    "        pronic_numbers.append(product)\n",
    "\n",
    "if pronic_numbers:\n",
    "    print(\"Pronic numbers between 1 and 100:\")\n",
    "    print(pronic_numbers)\n",
    "else:\n",
    "    print(\"No pronic numbers found between 1 and 100.\")\n"
   ]
  }
 ],
 "metadata": {
  "kernelspec": {
   "display_name": "Python 3",
   "language": "python",
   "name": "python3"
  },
  "language_info": {
   "codemirror_mode": {
    "name": "ipython",
    "version": 3
   },
   "file_extension": ".py",
   "mimetype": "text/x-python",
   "name": "python",
   "nbconvert_exporter": "python",
   "pygments_lexer": "ipython3",
   "version": "3.10.11"
  },
  "orig_nbformat": 4
 },
 "nbformat": 4,
 "nbformat_minor": 2
}
