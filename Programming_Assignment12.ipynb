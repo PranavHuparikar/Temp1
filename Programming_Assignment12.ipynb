{
 "cells": [
  {
   "cell_type": "code",
   "execution_count": 1,
   "metadata": {},
   "outputs": [
    {
     "name": "stdout",
     "output_type": "stream",
     "text": [
      "Unique values in the dictionary: [1, 2, 3]\n"
     ]
    }
   ],
   "source": [
    "#Write a Python program to Extract Unique values dictionary values?\n",
    "\n",
    "# Sample dictionary\n",
    "my_dict = {\n",
    "    'a': 1,\n",
    "    'b': 2,\n",
    "    'c': 1,\n",
    "    'd': 3,\n",
    "    'e': 2\n",
    "}\n",
    "\n",
    "# Initialize an empty set to store unique values\n",
    "unique_values = set()\n",
    "\n",
    "# Iterate through the values of the dictionary\n",
    "for value in my_dict.values():\n",
    "    unique_values.add(value)\n",
    "\n",
    "# Convert the set of unique values back to a list (if needed)\n",
    "unique_values_list = list(unique_values)\n",
    "\n",
    "# Print the unique values\n",
    "print(\"Unique values in the dictionary:\", unique_values_list)\n"
   ]
  },
  {
   "cell_type": "code",
   "execution_count": 2,
   "metadata": {},
   "outputs": [
    {
     "name": "stdout",
     "output_type": "stream",
     "text": [
      "Sum of all values in the dictionary: 50\n"
     ]
    }
   ],
   "source": [
    "#Write a Python program to find the sum of all items in a dictionary?\n",
    "# Sample dictionary with numeric values\n",
    "my_dict = {\n",
    "    'a': 5,\n",
    "    'b': 10,\n",
    "    'c': 15,\n",
    "    'd': 20\n",
    "}\n",
    "\n",
    "# Initialize a variable to store the sum\n",
    "sum_of_values = 0\n",
    "\n",
    "# Iterate through the values of the dictionary and add them to the sum\n",
    "for value in my_dict.values():\n",
    "    sum_of_values += value\n",
    "\n",
    "# Print the sum of all values in the dictionary\n",
    "print(\"Sum of all values in the dictionary:\", sum_of_values)\n"
   ]
  },
  {
   "cell_type": "code",
   "execution_count": 3,
   "metadata": {},
   "outputs": [
    {
     "name": "stdout",
     "output_type": "stream",
     "text": [
      "Merged Dictionary (Method 1): {'a': 1, 'b': 3, 'c': 4}\n",
      "Merged Dictionary (Method 2): {'a': 1, 'b': 3, 'c': 4}\n"
     ]
    }
   ],
   "source": [
    "#Write a Python program to Merging two Dictionaries?\n",
    "# Define two dictionaries to be merged\n",
    "dict1 = {'a': 1, 'b': 2}\n",
    "dict2 = {'b': 3, 'c': 4}\n",
    "\n",
    "# Method 1: Using dictionary unpacking (Python 3.5+)\n",
    "merged_dict1 = {**dict1, **dict2}\n",
    "\n",
    "# Method 2: Using the update() method\n",
    "dict1.update(dict2)\n",
    "merged_dict2 = dict1\n",
    "\n",
    "# Print the merged dictionaries\n",
    "print(\"Merged Dictionary (Method 1):\", merged_dict1)\n",
    "print(\"Merged Dictionary (Method 2):\", merged_dict2)\n"
   ]
  },
  {
   "cell_type": "code",
   "execution_count": 4,
   "metadata": {},
   "outputs": [
    {
     "name": "stdout",
     "output_type": "stream",
     "text": [
      "Flat Dictionary: {'a': 1, 'b': 2, 'c': 3}\n"
     ]
    }
   ],
   "source": [
    "#Write a Python program to convert key-values list to flat dictionary?\n",
    "# List of key-value pairs\n",
    "key_value_list = [(\"a\", 1), (\"b\", 2), (\"c\", 3)]\n",
    "\n",
    "# Initialize an empty dictionary\n",
    "flat_dict = {}\n",
    "\n",
    "# Iterate through the key-value pairs and add them to the dictionary\n",
    "for key, value in key_value_list:\n",
    "    flat_dict[key] = value\n",
    "\n",
    "# Print the flat dictionary\n",
    "print(\"Flat Dictionary:\", flat_dict)\n"
   ]
  },
  {
   "cell_type": "code",
   "execution_count": 5,
   "metadata": {},
   "outputs": [
    {
     "name": "stdout",
     "output_type": "stream",
     "text": [
      "Initial OrderedDict: OrderedDict([('a', 1), ('b', 2), ('c', 3)])\n",
      "OrderedDict after insertion at the beginning: OrderedDict([('x', 0), ('a', 1), ('b', 2), ('c', 3)])\n"
     ]
    }
   ],
   "source": [
    "#Write a Python program to insertion at the beginning in OrderedDict?\n",
    "from collections import OrderedDict\n",
    "\n",
    "# Create an ordered dictionary\n",
    "ordered_dict = OrderedDict([('a', 1), ('b', 2), ('c', 3)])\n",
    "\n",
    "# Print the initial ordered dictionary\n",
    "print(\"Initial OrderedDict:\", ordered_dict)\n",
    "\n",
    "# Insert a new item at the beginning\n",
    "ordered_dict['x'] = 0\n",
    "\n",
    "# Move the newly inserted item to the beginning\n",
    "ordered_dict.move_to_end('x', last=False)\n",
    "\n",
    "# Print the modified ordered dictionary\n",
    "print(\"OrderedDict after insertion at the beginning:\", ordered_dict)\n"
   ]
  },
  {
   "cell_type": "code",
   "execution_count": 6,
   "metadata": {},
   "outputs": [
    {
     "name": "stdout",
     "output_type": "stream",
     "text": [
      "The characters in the pattern 'hlo' are not in the same order in the string 'hello world'.\n"
     ]
    }
   ],
   "source": [
    "#Write a Python program to check order of character in string using OrderedDict()?\n",
    "\n",
    "from collections import OrderedDict\n",
    "\n",
    "# Function to check the order of characters in a string\n",
    "def check_order(input_string, pattern):\n",
    "    # Create an ordered dictionary to store the character order\n",
    "    char_order = OrderedDict()\n",
    "\n",
    "    # Initialize an index variable to keep track of character positions\n",
    "    index = 0\n",
    "\n",
    "    # Iterate through the input string\n",
    "    for char in input_string:\n",
    "        if char not in char_order:\n",
    "            char_order[char] = index\n",
    "            index += 1\n",
    "\n",
    "    # Check if the pattern string matches the order of characters in the ordered dictionary\n",
    "    for char in pattern:\n",
    "        if char not in char_order:\n",
    "            return False\n",
    "        if char_order[char] > index:\n",
    "            return False\n",
    "        index = char_order[char]\n",
    "\n",
    "    return True\n",
    "\n",
    "# Input string and pattern to check\n",
    "input_string = \"hello world\"\n",
    "pattern = \"hlo\"\n",
    "\n",
    "# Check the order of characters in the input string\n",
    "if check_order(input_string, pattern):\n",
    "    print(f\"The characters in the pattern '{pattern}' are in the same order in the string '{input_string}'.\")\n",
    "else:\n",
    "    print(f\"The characters in the pattern '{pattern}' are not in the same order in the string '{input_string}'.\")\n"
   ]
  },
  {
   "cell_type": "code",
   "execution_count": 7,
   "metadata": {},
   "outputs": [
    {
     "name": "stdout",
     "output_type": "stream",
     "text": [
      "Sorted Dictionary by Key: {'apple': 3, 'banana': 1, 'cherry': 2, 'date': 4}\n"
     ]
    }
   ],
   "source": [
    "#Write a Python program to sort Python Dictionaries by Key or Value?\n",
    "# Dictionary to be sorted by keys\n",
    "my_dict = {'apple': 3, 'banana': 1, 'cherry': 2, 'date': 4}\n",
    "\n",
    "# Sort the dictionary by keys\n",
    "sorted_dict_by_key = dict(sorted(my_dict.items()))\n",
    "\n",
    "# Print the sorted dictionary by key\n",
    "print(\"Sorted Dictionary by Key:\", sorted_dict_by_key)\n"
   ]
  }
 ],
 "metadata": {
  "kernelspec": {
   "display_name": "Python 3",
   "language": "python",
   "name": "python3"
  },
  "language_info": {
   "codemirror_mode": {
    "name": "ipython",
    "version": 3
   },
   "file_extension": ".py",
   "mimetype": "text/x-python",
   "name": "python",
   "nbconvert_exporter": "python",
   "pygments_lexer": "ipython3",
   "version": "3.10.11"
  }
 },
 "nbformat": 4,
 "nbformat_minor": 2
}
