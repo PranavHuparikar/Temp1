{
 "cells": [
  {
   "cell_type": "code",
   "execution_count": 1,
   "metadata": {},
   "outputs": [
    {
     "name": "stdout",
     "output_type": "stream",
     "text": [
      "Words longer than 5 characters: ['banana', 'cherry', 'elderberry']\n"
     ]
    }
   ],
   "source": [
    "#Write a Python program to find words which are greater than given length k?\n",
    "\n",
    "# Define a list of words\n",
    "words = [\"apple\", \"banana\", \"cherry\", \"date\", \"elderberry\", \"fig\"]\n",
    "\n",
    "# Specify the minimum length 'k' to filter words\n",
    "k = 5\n",
    "\n",
    "# Use a list comprehension to find words longer than 'k'\n",
    "long_words = [word for word in words if len(word) > k]\n",
    "\n",
    "# Print the result\n",
    "print(f\"Words longer than {k} characters: {long_words}\")\n"
   ]
  },
  {
   "cell_type": "code",
   "execution_count": 2,
   "metadata": {},
   "outputs": [
    {
     "name": "stdout",
     "output_type": "stream",
     "text": [
      "Original String: Hello, World!\n",
      "String after removing character at index 6: Hello,World!\n"
     ]
    }
   ],
   "source": [
    "#Write a Python program for removing i-th character from a string?\n",
    "# Input string\n",
    "input_string = \"Hello, World!\"\n",
    "\n",
    "# Index of the character to remove (0-based index)\n",
    "i = 6\n",
    "\n",
    "# Check if the index is valid\n",
    "if 0 <= i < len(input_string):\n",
    "    # Remove the i-th character by slicing the string\n",
    "    modified_string = input_string[:i] + input_string[i+1:]\n",
    "    \n",
    "    # Print the modified string\n",
    "    print(\"Original String:\", input_string)\n",
    "    print(f\"String after removing character at index {i}:\", modified_string)\n",
    "else:\n",
    "    print(f\"Invalid index. The string length is {len(input_string)} characters.\")\n"
   ]
  },
  {
   "cell_type": "code",
   "execution_count": 3,
   "metadata": {},
   "outputs": [
    {
     "name": "stdout",
     "output_type": "stream",
     "text": [
      "Original String: Hello, World! This is a sample string.\n",
      "Split String (list of words): ['Hello,', 'World!', 'This', 'is', 'a', 'sample', 'string.']\n",
      "Joined String: Hello, World! This is a sample string.\n"
     ]
    }
   ],
   "source": [
    "#Write a Python program to split and join a string?\n",
    "# Input string\n",
    "input_string = \"Hello, World! This is a sample string.\"\n",
    "\n",
    "# Split the string into a list of words using spaces as the delimiter\n",
    "word_list = input_string.split()\n",
    "\n",
    "# Join the list of words into a single string with a space as the separator\n",
    "joined_string = \" \".join(word_list)\n",
    "\n",
    "# Print the results\n",
    "print(\"Original String:\", input_string)\n",
    "print(\"Split String (list of words):\", word_list)\n",
    "print(\"Joined String:\", joined_string)\n"
   ]
  },
  {
   "cell_type": "code",
   "execution_count": 4,
   "metadata": {},
   "outputs": [
    {
     "name": "stdout",
     "output_type": "stream",
     "text": [
      "'101010101' is a binary string.\n"
     ]
    }
   ],
   "source": [
    "#Write a Python to check if a given string is binary string or not?\n",
    "# Function to check if a string is a binary string\n",
    "def is_binary_string(input_string):\n",
    "    # Iterate through each character in the string\n",
    "    for char in input_string:\n",
    "        # Check if the character is not '0' or '1'\n",
    "        if char != '0' and char != '1':\n",
    "            return False\n",
    "    # If all characters are '0' or '1', return True\n",
    "    return True\n",
    "\n",
    "# Input string\n",
    "input_string = \"101010101\"\n",
    "\n",
    "# Check if the input string is a binary string\n",
    "if is_binary_string(input_string):\n",
    "    print(f\"'{input_string}' is a binary string.\")\n",
    "else:\n",
    "    print(f\"'{input_string}' is not a binary string.\")\n"
   ]
  },
  {
   "cell_type": "code",
   "execution_count": 5,
   "metadata": {},
   "outputs": [
    {
     "name": "stdout",
     "output_type": "stream",
     "text": [
      "Uncommon words between the two strings: {'second', 'first'}\n"
     ]
    }
   ],
   "source": [
    "#Write a Python program to find uncommon words from two Strings?\n",
    "# Function to find uncommon words from two strings\n",
    "def find_uncommon_words(string1, string2):\n",
    "    # Split the strings into words and convert them to sets\n",
    "    words1 = set(string1.split())\n",
    "    words2 = set(string2.split())\n",
    "    \n",
    "    # Find the uncommon words using set difference\n",
    "    uncommon_words = words1.symmetric_difference(words2)\n",
    "    \n",
    "    return uncommon_words\n",
    "\n",
    "# Input strings\n",
    "string1 = \"This is the first string.\"\n",
    "string2 = \"This is the second string.\"\n",
    "\n",
    "# Find uncommon words between the two strings\n",
    "uncommon_words = find_uncommon_words(string1, string2)\n",
    "\n",
    "# Print the result\n",
    "print(\"Uncommon words between the two strings:\", uncommon_words)\n"
   ]
  },
  {
   "cell_type": "code",
   "execution_count": 6,
   "metadata": {},
   "outputs": [
    {
     "name": "stdout",
     "output_type": "stream",
     "text": [
      "Duplicate characters in the string: {'r', 'g', 'm'}\n"
     ]
    }
   ],
   "source": [
    "#Write a Python to find all duplicate characters in string?\n",
    "# Function to find all duplicate characters in a string\n",
    "def find_duplicate_characters(input_string):\n",
    "    # Create an empty set to store duplicate characters\n",
    "    duplicates = set()\n",
    "    \n",
    "    # Create an empty set to store characters that have been encountered\n",
    "    seen = set()\n",
    "    \n",
    "    # Iterate through each character in the string\n",
    "    for char in input_string:\n",
    "        # If the character has been encountered before, it's a duplicate\n",
    "        if char in seen:\n",
    "            duplicates.add(char)\n",
    "        else:\n",
    "            # Otherwise, add it to the set of seen characters\n",
    "            seen.add(char)\n",
    "    \n",
    "    return duplicates\n",
    "\n",
    "# Input string\n",
    "input_string = \"programming\"\n",
    "\n",
    "# Find duplicate characters in the input string\n",
    "duplicate_characters = find_duplicate_characters(input_string)\n",
    "\n",
    "# Print the result\n",
    "if duplicate_characters:\n",
    "    print(\"Duplicate characters in the string:\", duplicate_characters)\n",
    "else:\n",
    "    print(\"No duplicate characters found in the string.\")\n"
   ]
  },
  {
   "cell_type": "code",
   "execution_count": 7,
   "metadata": {},
   "outputs": [
    {
     "name": "stdout",
     "output_type": "stream",
     "text": [
      "The string contains special characters.\n"
     ]
    }
   ],
   "source": [
    "#Write a Python Program to check if a string contains any special character?\n",
    "import re\n",
    "\n",
    "# Function to check if a string contains any special characters\n",
    "def contains_special_characters(input_string):\n",
    "    # Define a regular expression pattern for special characters\n",
    "    pattern = r'[!@#$%^&*()_+{}\\[\\]:;<>,.?~\\\\|]'\n",
    "    \n",
    "    # Use the re.search() function to find a match\n",
    "    if re.search(pattern, input_string):\n",
    "        return True\n",
    "    else:\n",
    "        return False\n",
    "\n",
    "# Input string\n",
    "input_string = \"Hello, World!\"\n",
    "\n",
    "# Check if the input string contains any special characters\n",
    "if contains_special_characters(input_string):\n",
    "    print(\"The string contains special characters.\")\n",
    "else:\n",
    "    print(\"The string does not contain special characters.\")\n"
   ]
  }
 ],
 "metadata": {
  "kernelspec": {
   "display_name": "Python 3",
   "language": "python",
   "name": "python3"
  },
  "language_info": {
   "codemirror_mode": {
    "name": "ipython",
    "version": 3
   },
   "file_extension": ".py",
   "mimetype": "text/x-python",
   "name": "python",
   "nbconvert_exporter": "python",
   "pygments_lexer": "ipython3",
   "version": "3.10.11"
  }
 },
 "nbformat": 4,
 "nbformat_minor": 2
}
