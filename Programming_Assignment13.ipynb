{
 "cells": [
  {
   "cell_type": "code",
   "execution_count": 1,
   "metadata": {},
   "outputs": [
    {
     "name": "stdout",
     "output_type": "stream",
     "text": [
      "18, 22, 24\n"
     ]
    }
   ],
   "source": [
    "C = 50\n",
    "H = 30\n",
    "\n",
    "def calc_Q(D):\n",
    "    return int(((2 * C * D)/H)**0.5)\n",
    "input_values123 = input(\"Enter comma-separated values of D\")\n",
    "\n",
    "D_values = [float(x.strip()) for x in input_values123.split(',')]\n",
    "\n",
    "output_values = [str(calc_Q(D)) for D in D_values]\n",
    "output_str = ', '.join(output_values)\n",
    "print(output_str)\n",
    "\n"
   ]
  },
  {
   "cell_type": "code",
   "execution_count": 2,
   "metadata": {},
   "outputs": [
    {
     "name": "stdout",
     "output_type": "stream",
     "text": [
      "[0, 0, 0, 0, 0]\n",
      "[0, 1, 2, 3, 4]\n",
      "[0, 2, 4, 6, 8]\n"
     ]
    }
   ],
   "source": [
    "X = 3\n",
    "Y = 5\n",
    "matrix = [[0 for j in range(Y)] for i in range(X)]\n",
    "\n",
    "\n",
    "for i in range(0,X):\n",
    "    for j in range(0,Y):\n",
    "        matrix[i][j] = i * j\n",
    "\n",
    "\n",
    "for row in matrix:\n",
    "    print(row)"
   ]
  },
  {
   "cell_type": "code",
   "execution_count": 3,
   "metadata": {},
   "outputs": [
    {
     "name": "stdout",
     "output_type": "stream",
     "text": [
      "bag, hello, without, world\n"
     ]
    }
   ],
   "source": [
    "input_values = input(\"Enter comma separated sequence\")\n",
    "list1 = input_values.split(',')\n",
    "\n",
    "list1.sort()\n",
    "\n",
    "output = ', '.join(list1)\n",
    "print(output)"
   ]
  },
  {
   "cell_type": "code",
   "execution_count": 4,
   "metadata": {},
   "outputs": [
    {
     "name": "stdout",
     "output_type": "stream",
     "text": [
      "again and hello makes perfect practice world\n"
     ]
    }
   ],
   "source": [
    "# Input a whitespace-separated sequence of words\n",
    "abc = input(\"Enter a whitespace-separated sequence of words: \")\n",
    "\n",
    "# Split the input into words\n",
    "words = abc.split()\n",
    "\n",
    "# Remove duplicates by creating a set and then converting it back to a list\n",
    "unique_words = list(set(words))\n",
    "\n",
    "# Sort the unique words alphanumerically\n",
    "sorted_words = sorted(unique_words)\n",
    "\n",
    "# Join the sorted words into a string\n",
    "output_sequence = ' '.join(sorted_words)\n",
    "\n",
    "# Print the sorted and deduplicated sequence\n",
    "print(output_sequence)\n"
   ]
  },
  {
   "cell_type": "code",
   "execution_count": 5,
   "metadata": {},
   "outputs": [
    {
     "name": "stdout",
     "output_type": "stream",
     "text": [
      "LETTERS 10\n",
      "DIGITS 3\n"
     ]
    }
   ],
   "source": [
    "# Input a sentence\n",
    "input_sentence = input(\"Enter a sentence: \")\n",
    "\n",
    "# Initialize counters for letters and digits\n",
    "letter_count = 0\n",
    "digit_count = 0\n",
    "\n",
    "# Iterate through the characters in the sentence\n",
    "for char in input_sentence:\n",
    "    if char.isalpha():\n",
    "        letter_count += 1\n",
    "    elif char.isdigit():\n",
    "        digit_count += 1\n",
    "\n",
    "# Print the counts\n",
    "print(\"LETTERS\", letter_count)\n",
    "print(\"DIGITS\", digit_count)\n"
   ]
  },
  {
   "cell_type": "code",
   "execution_count": 6,
   "metadata": {},
   "outputs": [
    {
     "name": "stdout",
     "output_type": "stream",
     "text": [
      "ABd1234@1\n"
     ]
    }
   ],
   "source": [
    "import re\n",
    "\n",
    "# Function to check if a password is valid\n",
    "def is_valid_password(password):\n",
    "    # Check length criteria\n",
    "    if 6 <= len(password) <= 12:\n",
    "        # Check for at least 1 lowercase letter\n",
    "        if re.search(r'[a-z]', password):\n",
    "            # Check for at least 1 uppercase letter\n",
    "            if re.search(r'[A-Z]', password):\n",
    "                # Check for at least 1 digit\n",
    "                if re.search(r'[0-9]', password):\n",
    "                    # Check for at least 1 character from [$#@]\n",
    "                    if re.search(r'[$#@]', password):\n",
    "                        return True\n",
    "\n",
    "    return False\n",
    "\n",
    "# Input a comma-separated sequence of passwords\n",
    "input_passwords = input(\"Enter comma-separated passwords: \")\n",
    "\n",
    "# Split the input into a list of passwords\n",
    "passwords = input_passwords.split(',')\n",
    "\n",
    "# Check and print valid passwords\n",
    "valid_passwords = [password for password in passwords if is_valid_password(password)]\n",
    "output = ', '.join(valid_passwords)\n",
    "print(output)\n"
   ]
  }
 ],
 "metadata": {
  "kernelspec": {
   "display_name": "Python 3",
   "language": "python",
   "name": "python3"
  },
  "language_info": {
   "codemirror_mode": {
    "name": "ipython",
    "version": 3
   },
   "file_extension": ".py",
   "mimetype": "text/x-python",
   "name": "python",
   "nbconvert_exporter": "python",
   "pygments_lexer": "ipython3",
   "version": "3.10.11"
  }
 },
 "nbformat": 4,
 "nbformat_minor": 2
}
