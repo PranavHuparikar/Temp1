{
 "cells": [
  {
   "cell_type": "code",
   "execution_count": 1,
   "metadata": {},
   "outputs": [
    {
     "name": "stdout",
     "output_type": "stream",
     "text": [
      "The sum of the numbers in the array is: 79\n"
     ]
    }
   ],
   "source": [
    "#Write a Python Program to find sum of array?\n",
    "\n",
    "# Input the array of numbers from the user\n",
    "try:\n",
    "    # Input the array as a space-separated string and split it into individual numbers\n",
    "    input_string = input(\"Enter numbers separated by spaces: \")\n",
    "    numbers = input_string.split()\n",
    "    \n",
    "    # Convert the list of strings to a list of integers\n",
    "    numbers = [int(num) for num in numbers]\n",
    "    \n",
    "    # Calculate the sum of the numbers using a loop\n",
    "    array_sum = sum(numbers)\n",
    "    \n",
    "    # Print the result\n",
    "    print(f\"The sum of the numbers in the array is: {array_sum}\")\n",
    "except ValueError:\n",
    "    print(\"Invalid input. Please enter valid numbers separated by spaces.\")\n"
   ]
  },
  {
   "cell_type": "code",
   "execution_count": 2,
   "metadata": {},
   "outputs": [
    {
     "name": "stdout",
     "output_type": "stream",
     "text": [
      "The largest element in the array is: 101\n"
     ]
    }
   ],
   "source": [
    "#Write a Python Program to find largest element in an array?\n",
    "\n",
    "# Input the array of numbers from the user\n",
    "try:\n",
    "    # Input the array as a space-separated string and split it into individual numbers\n",
    "    input_string = input(\"Enter numbers separated by spaces: \")\n",
    "    numbers = input_string.split()\n",
    "    \n",
    "    # Convert the list of strings to a list of integers\n",
    "    numbers = [int(num) for num in numbers]\n",
    "    \n",
    "    # Initialize the maximum value to the first element of the array\n",
    "    max_value = numbers[0]\n",
    "    \n",
    "    # Find the largest element in the array\n",
    "    for num in numbers:\n",
    "        if num > max_value:\n",
    "            max_value = num\n",
    "    \n",
    "    # Print the result\n",
    "    print(f\"The largest element in the array is: {max_value}\")\n",
    "except ValueError:\n",
    "    print(\"Invalid input. Please enter valid numbers separated by spaces.\")\n"
   ]
  },
  {
   "cell_type": "code",
   "execution_count": 3,
   "metadata": {},
   "outputs": [
    {
     "name": "stdout",
     "output_type": "stream",
     "text": [
      "Rotated Array: [3, 7, 9, 2, 1, 5]\n"
     ]
    }
   ],
   "source": [
    "#Write a Python Program for array rotation?\n",
    "\n",
    "# Function to perform left rotation of an array\n",
    "def left_rotate_array(arr, num_rotations):\n",
    "    # Calculate the length of the array\n",
    "    n = len(arr)\n",
    "    \n",
    "    # Ensure num_rotations is within the range [0, n]\n",
    "    num_rotations %= n\n",
    "    \n",
    "    # Perform the left rotation using slicing\n",
    "    rotated_array = arr[num_rotations:] + arr[:num_rotations]\n",
    "    \n",
    "    return rotated_array\n",
    "\n",
    "# Input the array from the user\n",
    "try:\n",
    "    # Input the array as a space-separated string and split it into individual numbers\n",
    "    input_string = input(\"Enter the array elements separated by spaces: \")\n",
    "    arr = input_string.split()\n",
    "    \n",
    "    # Convert the list of strings to a list of integers\n",
    "    arr = [int(num) for num in arr]\n",
    "    \n",
    "    # Input the number of rotations from the user\n",
    "    num_rotations = int(input(\"Enter the number of left rotations: \"))\n",
    "    \n",
    "    # Perform the left rotation\n",
    "    rotated_array = left_rotate_array(arr, num_rotations)\n",
    "    \n",
    "    # Print the rotated array\n",
    "    print(\"Rotated Array:\", rotated_array)\n",
    "except ValueError:\n",
    "    print(\"Invalid input. Please enter valid numbers separated by spaces.\")\n"
   ]
  },
  {
   "cell_type": "code",
   "execution_count": 4,
   "metadata": {},
   "outputs": [
    {
     "name": "stdout",
     "output_type": "stream",
     "text": [
      "Rotated Array: [97, 22, 6, 10, 50, 77]\n"
     ]
    }
   ],
   "source": [
    "#Write a Python Program to Split the array and add the first part to the end?\n",
    "\n",
    "# Function to split the array and add the first part to the end\n",
    "def split_and_add(arr, split_position):\n",
    "    if split_position <= 0 or split_position >= len(arr):\n",
    "        return arr\n",
    "    \n",
    "    # Split the array and concatenate the two parts\n",
    "    rotated_array = arr[split_position:] + arr[:split_position]\n",
    "    \n",
    "    return rotated_array\n",
    "\n",
    "# Input the array from the user\n",
    "try:\n",
    "    # Input the array as a space-separated string and split it into individual numbers\n",
    "    input_string = input(\"Enter the array elements separated by spaces: \")\n",
    "    arr = input_string.split()\n",
    "    \n",
    "    # Convert the list of strings to a list of integers\n",
    "    arr = [int(num) for num in arr]\n",
    "    \n",
    "    # Input the split position from the user\n",
    "    split_position = int(input(\"Enter the split position (0 to length of array): \"))\n",
    "    \n",
    "    # Perform the split and add operation\n",
    "    rotated_array = split_and_add(arr, split_position)\n",
    "    \n",
    "    # Print the rotated array\n",
    "    print(\"Rotated Array:\", rotated_array)\n",
    "except ValueError:\n",
    "    print(\"Invalid input. Please enter valid numbers separated by spaces.\")\n"
   ]
  },
  {
   "cell_type": "code",
   "execution_count": 5,
   "metadata": {},
   "outputs": [
    {
     "name": "stdout",
     "output_type": "stream",
     "text": [
      "The array is monotonic.\n"
     ]
    }
   ],
   "source": [
    "#Write a Python Program to check if given array is Monotonic?\n",
    "\n",
    "# Function to check if an array is monotonic\n",
    "def is_monotonic(arr):\n",
    "    increasing = decreasing = True\n",
    "    \n",
    "    # Check if the array is non-increasing\n",
    "    for i in range(1, len(arr)):\n",
    "        if arr[i] > arr[i - 1]:\n",
    "            increasing = False\n",
    "            break\n",
    "    \n",
    "    # Check if the array is non-decreasing\n",
    "    for i in range(1, len(arr)):\n",
    "        if arr[i] < arr[i - 1]:\n",
    "            decreasing = False\n",
    "            break\n",
    "    \n",
    "    # If either increasing or decreasing is True, the array is monotonic\n",
    "    return increasing or decreasing\n",
    "\n",
    "# Input the array from the user\n",
    "try:\n",
    "    # Input the array as a space-separated string and split it into individual numbers\n",
    "    input_string = input(\"Enter the array elements separated by spaces: \")\n",
    "    arr = input_string.split()\n",
    "    \n",
    "    # Convert the list of strings to a list of integers\n",
    "    arr = [int(num) for num in arr]\n",
    "    \n",
    "    # Check if the array is monotonic\n",
    "    if is_monotonic(arr):\n",
    "        print(\"The array is monotonic.\")\n",
    "    else:\n",
    "        print(\"The array is not monotonic.\")\n",
    "except ValueError:\n",
    "    print(\"Invalid input. Please enter valid numbers separated by spaces.\")\n"
   ]
  }
 ],
 "metadata": {
  "kernelspec": {
   "display_name": "Python 3",
   "language": "python",
   "name": "python3"
  },
  "language_info": {
   "codemirror_mode": {
    "name": "ipython",
    "version": 3
   },
   "file_extension": ".py",
   "mimetype": "text/x-python",
   "name": "python",
   "nbconvert_exporter": "python",
   "pygments_lexer": "ipython3",
   "version": "3.10.11"
  },
  "orig_nbformat": 4
 },
 "nbformat": 4,
 "nbformat_minor": 2
}
