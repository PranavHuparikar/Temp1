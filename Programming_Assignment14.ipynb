{
 "cells": [
  {
   "cell_type": "code",
   "execution_count": 1,
   "metadata": {},
   "outputs": [
    {
     "name": "stdout",
     "output_type": "stream",
     "text": [
      "0\n",
      "7\n",
      "14\n",
      "21\n",
      "28\n",
      "35\n",
      "42\n",
      "49\n"
     ]
    }
   ],
   "source": [
    "class DivisibleBySeven:\n",
    "    def __init__(self, n):\n",
    "        self.n = n\n",
    "\n",
    "    def divisible_by_seven_generator(self):\n",
    "        for num in range(0, self.n + 1):\n",
    "            if num % 7 == 0:\n",
    "                yield num\n",
    "\n",
    "# Example usage:\n",
    "n = 50  # Define your desired range\n",
    "divisible_by_seven_obj = DivisibleBySeven(n)\n",
    "\n",
    "for num in divisible_by_seven_obj.divisible_by_seven_generator():\n",
    "    print(num)\n"
   ]
  },
  {
   "cell_type": "code",
   "execution_count": 2,
   "metadata": {},
   "outputs": [
    {
     "name": "stdout",
     "output_type": "stream",
     "text": [
      "2:2\n",
      "3:2\n",
      "New:1\n",
      "Python:5\n",
      "Read:1\n",
      "and:1\n",
      "between:1\n",
      "choosing:1\n",
      "or:2\n",
      "to:1\n"
     ]
    }
   ],
   "source": [
    "# Input text\n",
    "input_text = input(\"Enter a sentence: \")\n",
    "\n",
    "# Split the input text into words\n",
    "words = input_text.split()\n",
    "\n",
    "# Create a dictionary to store word frequencies\n",
    "word_freq = {}\n",
    "\n",
    "# Count the frequency of each word\n",
    "for word in words:\n",
    "    word = word.strip('.,?!')  # Remove punctuation\n",
    "    if word in word_freq:\n",
    "        word_freq[word] += 1\n",
    "    else:\n",
    "        word_freq[word] = 1\n",
    "\n",
    "# Sort the keys alphanumerically\n",
    "sorted_words = sorted(word_freq.keys())\n",
    "\n",
    "# Display the word frequencies\n",
    "for word in sorted_words:\n",
    "    print(f\"{word}:{word_freq[word]}\")\n"
   ]
  },
  {
   "cell_type": "code",
   "execution_count": 3,
   "metadata": {},
   "outputs": [
    {
     "name": "stdout",
     "output_type": "stream",
     "text": [
      "Unknown\n",
      "Male\n",
      "Female\n"
     ]
    }
   ],
   "source": [
    "class Person:\n",
    "    def getGender(self):\n",
    "        return \"Unknown\"\n",
    "\n",
    "class Male(Person):\n",
    "    def getGender(self):\n",
    "        return \"Male\"\n",
    "\n",
    "class Female(Person):\n",
    "    def getGender(self):\n",
    "        return \"Female\"\n",
    "\n",
    "# Example usage:\n",
    "person = Person()\n",
    "male = Male()\n",
    "female = Female()\n",
    "\n",
    "print(person.getGender())  # Output: \"Unknown\"\n",
    "print(male.getGender())    # Output: \"Male\"\n",
    "print(female.getGender())  # Output: \"Female\"\n"
   ]
  },
  {
   "cell_type": "code",
   "execution_count": 4,
   "metadata": {},
   "outputs": [
    {
     "name": "stdout",
     "output_type": "stream",
     "text": [
      "I Play Hockey.\n",
      "I Play Football.\n",
      "I Love Hockey.\n",
      "I Love Football.\n",
      "You Play Hockey.\n",
      "You Play Football.\n",
      "You Love Hockey.\n",
      "You Love Football.\n"
     ]
    }
   ],
   "source": [
    "subjects = [\"I\", \"You\"]\n",
    "verbs = [\"Play\", \"Love\"]\n",
    "objects = [\"Hockey\", \"Football\"]\n",
    "\n",
    "for subject in subjects:\n",
    "    for verb in verbs:\n",
    "        for obj in objects:\n",
    "            sentence = f\"{subject} {verb} {obj}.\"\n",
    "            print(sentence)\n"
   ]
  },
  {
   "cell_type": "code",
   "execution_count": 5,
   "metadata": {},
   "outputs": [
    {
     "name": "stdout",
     "output_type": "stream",
     "text": [
      "Original String: hello world!hello world!hello world!hello world!\n",
      "Compressed String: eJzLSM3JyVcozy/KSVHMIIINAL1bEfU=\n",
      "Decompressed String: hello world!hello world!hello world!hello world!\n"
     ]
    }
   ],
   "source": [
    "import zlib\n",
    "import base64\n",
    "\n",
    "# Define the string to compress\n",
    "input_string = \"hello world!hello world!hello world!hello world!\"\n",
    "\n",
    "# Compress the string\n",
    "compressed_data = zlib.compress(input_string.encode('utf-8'))\n",
    "compressed_string = base64.b64encode(compressed_data).decode('utf-8')\n",
    "\n",
    "# Decompress the string\n",
    "decoded_data = base64.b64decode(compressed_string.encode('utf-8'))\n",
    "decompressed_string = zlib.decompress(decoded_data).decode('utf-8')\n",
    "\n",
    "# Print the results\n",
    "print(\"Original String:\", input_string)\n",
    "print(\"Compressed String:\", compressed_string)\n",
    "print(\"Decompressed String:\", decompressed_string)\n"
   ]
  },
  {
   "cell_type": "code",
   "execution_count": 6,
   "metadata": {},
   "outputs": [
    {
     "name": "stdout",
     "output_type": "stream",
     "text": [
      "Element 7 found at index 6\n"
     ]
    }
   ],
   "source": [
    "def binary_search(sorted_list, target):\n",
    "    left, right = 0, len(sorted_list) - 1\n",
    "\n",
    "    while left <= right:\n",
    "        mid = left + (right - left) // 2  # Calculate the middle index\n",
    "\n",
    "        if sorted_list[mid] == target:\n",
    "            return mid  # Found the target, return its index\n",
    "        elif sorted_list[mid] < target:\n",
    "            left = mid + 1  # Adjust the left boundary\n",
    "        else:\n",
    "            right = mid - 1  # Adjust the right boundary\n",
    "\n",
    "    return -1  # Target not found in the list\n",
    "\n",
    "# Example usage:\n",
    "sorted_list = [1, 2, 3, 4, 5, 6, 7, 8, 9, 10]\n",
    "target = 7\n",
    "result = binary_search(sorted_list, target)\n",
    "\n",
    "if result != -1:\n",
    "    print(f\"Element {target} found at index {result}\")\n",
    "else:\n",
    "    print(f\"Element {target} not found in the list\")\n"
   ]
  }
 ],
 "metadata": {
  "kernelspec": {
   "display_name": "Python 3",
   "language": "python",
   "name": "python3"
  },
  "language_info": {
   "codemirror_mode": {
    "name": "ipython",
    "version": 3
   },
   "file_extension": ".py",
   "mimetype": "text/x-python",
   "name": "python",
   "nbconvert_exporter": "python",
   "pygments_lexer": "ipython3",
   "version": "3.10.11"
  }
 },
 "nbformat": 4,
 "nbformat_minor": 2
}
